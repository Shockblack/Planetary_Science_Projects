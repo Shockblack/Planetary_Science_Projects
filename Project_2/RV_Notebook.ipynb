{
 "cells": [
  {
   "cell_type": "code",
   "execution_count": 2,
   "metadata": {},
   "outputs": [],
   "source": [
    "import matplotlib.pyplot as plt\n",
    "import numpy as np\n",
    "import astropy.io.ascii\n",
    "%matplotlib inline"
   ]
  },
  {
   "cell_type": "markdown",
   "metadata": {},
   "source": [
    "## Read in RV"
   ]
  },
  {
   "cell_type": "code",
   "execution_count": 3,
   "metadata": {},
   "outputs": [],
   "source": [
    "rv_data = astropy.io.ascii.read(\"RV.txt\")"
   ]
  },
  {
   "cell_type": "code",
   "execution_count": 5,
   "metadata": {},
   "outputs": [
    {
     "name": "stdout",
     "output_type": "stream",
     "text": [
      "Collecting radvel\n",
      "  Downloading radvel-1.4.9.tar.gz (79 kB)\n",
      "\u001b[K     |████████████████████████████████| 79 kB 1.2 MB/s eta 0:00:01\n",
      "\u001b[?25hRequirement already satisfied: cython>=0.23 in /Users/sydneypetz/opt/anaconda3/lib/python3.9/site-packages (from radvel) (0.29.24)\n",
      "Requirement already satisfied: numpy>=1.16 in /Users/sydneypetz/opt/anaconda3/lib/python3.9/site-packages (from radvel) (1.20.3)\n",
      "Requirement already satisfied: scipy>=0.17 in /Users/sydneypetz/opt/anaconda3/lib/python3.9/site-packages (from radvel) (1.7.1)\n",
      "Requirement already satisfied: matplotlib>=1.5.3 in /Users/sydneypetz/opt/anaconda3/lib/python3.9/site-packages (from radvel) (3.4.3)\n",
      "Requirement already satisfied: corner>=2.0 in /Users/sydneypetz/opt/anaconda3/lib/python3.9/site-packages (from radvel) (2.2.1)\n",
      "Requirement already satisfied: astropy>=1.1.2 in /Users/sydneypetz/opt/anaconda3/lib/python3.9/site-packages (from radvel) (5.0.4)\n",
      "Requirement already satisfied: emcee>=3.0.2 in /Users/sydneypetz/opt/anaconda3/lib/python3.9/site-packages (from radvel) (3.1.4)\n",
      "Requirement already satisfied: pandas>=0.20.0 in /Users/sydneypetz/opt/anaconda3/lib/python3.9/site-packages (from radvel) (1.3.4)\n",
      "Collecting nbsphinx>=0.3.3\n",
      "  Downloading nbsphinx-0.8.12-py3-none-any.whl (26 kB)\n",
      "Requirement already satisfied: jupyter_client>=5.2.4 in /Users/sydneypetz/opt/anaconda3/lib/python3.9/site-packages (from radvel) (6.1.12)\n",
      "Requirement already satisfied: ipykernel>=4.10.0 in /Users/sydneypetz/opt/anaconda3/lib/python3.9/site-packages (from radvel) (6.4.1)\n",
      "Requirement already satisfied: jinja2>=2.9 in /Users/sydneypetz/opt/anaconda3/lib/python3.9/site-packages (from radvel) (2.11.3)\n",
      "Requirement already satisfied: python-dateutil>=2.5.0 in /Users/sydneypetz/opt/anaconda3/lib/python3.9/site-packages (from radvel) (2.8.2)\n",
      "Collecting dill\n",
      "  Downloading dill-0.3.6-py3-none-any.whl (110 kB)\n",
      "\u001b[K     |████████████████████████████████| 110 kB 2.4 MB/s eta 0:00:01\n",
      "\u001b[?25hRequirement already satisfied: pyerfa>=2.0 in /Users/sydneypetz/opt/anaconda3/lib/python3.9/site-packages (from astropy>=1.1.2->radvel) (2.0.0)\n",
      "Requirement already satisfied: PyYAML>=3.13 in /Users/sydneypetz/opt/anaconda3/lib/python3.9/site-packages (from astropy>=1.1.2->radvel) (6.0)\n",
      "Requirement already satisfied: packaging>=19.0 in /Users/sydneypetz/opt/anaconda3/lib/python3.9/site-packages (from astropy>=1.1.2->radvel) (21.0)\n",
      "Requirement already satisfied: ipython-genutils in /Users/sydneypetz/opt/anaconda3/lib/python3.9/site-packages (from ipykernel>=4.10.0->radvel) (0.2.0)\n",
      "Requirement already satisfied: debugpy<2.0,>=1.0.0 in /Users/sydneypetz/opt/anaconda3/lib/python3.9/site-packages (from ipykernel>=4.10.0->radvel) (1.4.1)\n",
      "Requirement already satisfied: ipython<8.0,>=7.23.1 in /Users/sydneypetz/opt/anaconda3/lib/python3.9/site-packages (from ipykernel>=4.10.0->radvel) (7.33.0)\n",
      "Requirement already satisfied: tornado<7.0,>=4.2 in /Users/sydneypetz/opt/anaconda3/lib/python3.9/site-packages (from ipykernel>=4.10.0->radvel) (6.1)\n",
      "Requirement already satisfied: appnope in /Users/sydneypetz/opt/anaconda3/lib/python3.9/site-packages (from ipykernel>=4.10.0->radvel) (0.1.2)\n",
      "Requirement already satisfied: traitlets<6.0,>=4.1.0 in /Users/sydneypetz/opt/anaconda3/lib/python3.9/site-packages (from ipykernel>=4.10.0->radvel) (5.1.0)\n",
      "Requirement already satisfied: matplotlib-inline<0.2.0,>=0.1.0 in /Users/sydneypetz/opt/anaconda3/lib/python3.9/site-packages (from ipykernel>=4.10.0->radvel) (0.1.2)\n",
      "Requirement already satisfied: setuptools>=18.5 in /Users/sydneypetz/opt/anaconda3/lib/python3.9/site-packages (from ipython<8.0,>=7.23.1->ipykernel>=4.10.0->radvel) (58.0.4)\n",
      "Requirement already satisfied: jedi>=0.16 in /Users/sydneypetz/opt/anaconda3/lib/python3.9/site-packages (from ipython<8.0,>=7.23.1->ipykernel>=4.10.0->radvel) (0.18.0)\n",
      "Requirement already satisfied: pygments in /Users/sydneypetz/opt/anaconda3/lib/python3.9/site-packages (from ipython<8.0,>=7.23.1->ipykernel>=4.10.0->radvel) (2.10.0)\n",
      "Requirement already satisfied: decorator in /Users/sydneypetz/opt/anaconda3/lib/python3.9/site-packages (from ipython<8.0,>=7.23.1->ipykernel>=4.10.0->radvel) (5.1.0)\n",
      "Requirement already satisfied: pickleshare in /Users/sydneypetz/opt/anaconda3/lib/python3.9/site-packages (from ipython<8.0,>=7.23.1->ipykernel>=4.10.0->radvel) (0.7.5)\n",
      "Requirement already satisfied: backcall in /Users/sydneypetz/opt/anaconda3/lib/python3.9/site-packages (from ipython<8.0,>=7.23.1->ipykernel>=4.10.0->radvel) (0.2.0)\n",
      "Requirement already satisfied: prompt-toolkit!=3.0.0,!=3.0.1,<3.1.0,>=2.0.0 in /Users/sydneypetz/opt/anaconda3/lib/python3.9/site-packages (from ipython<8.0,>=7.23.1->ipykernel>=4.10.0->radvel) (3.0.20)\n",
      "Requirement already satisfied: pexpect>4.3 in /Users/sydneypetz/opt/anaconda3/lib/python3.9/site-packages (from ipython<8.0,>=7.23.1->ipykernel>=4.10.0->radvel) (4.8.0)\n",
      "Requirement already satisfied: parso<0.9.0,>=0.8.0 in /Users/sydneypetz/opt/anaconda3/lib/python3.9/site-packages (from jedi>=0.16->ipython<8.0,>=7.23.1->ipykernel>=4.10.0->radvel) (0.8.2)\n",
      "Requirement already satisfied: MarkupSafe>=0.23 in /Users/sydneypetz/opt/anaconda3/lib/python3.9/site-packages (from jinja2>=2.9->radvel) (1.1.1)\n",
      "Requirement already satisfied: jupyter-core>=4.6.0 in /Users/sydneypetz/opt/anaconda3/lib/python3.9/site-packages (from jupyter_client>=5.2.4->radvel) (4.8.1)\n",
      "Requirement already satisfied: pyzmq>=13 in /Users/sydneypetz/opt/anaconda3/lib/python3.9/site-packages (from jupyter_client>=5.2.4->radvel) (22.2.1)\n",
      "Requirement already satisfied: pyparsing>=2.2.1 in /Users/sydneypetz/opt/anaconda3/lib/python3.9/site-packages (from matplotlib>=1.5.3->radvel) (3.0.4)\n",
      "Requirement already satisfied: cycler>=0.10 in /Users/sydneypetz/opt/anaconda3/lib/python3.9/site-packages (from matplotlib>=1.5.3->radvel) (0.10.0)\n",
      "Requirement already satisfied: pillow>=6.2.0 in /Users/sydneypetz/opt/anaconda3/lib/python3.9/site-packages (from matplotlib>=1.5.3->radvel) (8.4.0)\n",
      "Requirement already satisfied: kiwisolver>=1.0.1 in /Users/sydneypetz/opt/anaconda3/lib/python3.9/site-packages (from matplotlib>=1.5.3->radvel) (1.3.1)\n",
      "Requirement already satisfied: six in /Users/sydneypetz/opt/anaconda3/lib/python3.9/site-packages (from cycler>=0.10->matplotlib>=1.5.3->radvel) (1.16.0)\n",
      "Requirement already satisfied: nbconvert!=5.4 in /Users/sydneypetz/opt/anaconda3/lib/python3.9/site-packages (from nbsphinx>=0.3.3->radvel) (6.1.0)\n",
      "Requirement already satisfied: nbformat in /Users/sydneypetz/opt/anaconda3/lib/python3.9/site-packages (from nbsphinx>=0.3.3->radvel) (5.1.3)\n",
      "Requirement already satisfied: sphinx>=1.8 in /Users/sydneypetz/opt/anaconda3/lib/python3.9/site-packages (from nbsphinx>=0.3.3->radvel) (4.2.0)\n",
      "Requirement already satisfied: docutils in /Users/sydneypetz/opt/anaconda3/lib/python3.9/site-packages (from nbsphinx>=0.3.3->radvel) (0.17.1)\n",
      "Requirement already satisfied: nbclient<0.6.0,>=0.5.0 in /Users/sydneypetz/opt/anaconda3/lib/python3.9/site-packages (from nbconvert!=5.4->nbsphinx>=0.3.3->radvel) (0.5.3)\n",
      "Requirement already satisfied: entrypoints>=0.2.2 in /Users/sydneypetz/opt/anaconda3/lib/python3.9/site-packages (from nbconvert!=5.4->nbsphinx>=0.3.3->radvel) (0.3)\n",
      "Requirement already satisfied: pandocfilters>=1.4.1 in /Users/sydneypetz/opt/anaconda3/lib/python3.9/site-packages (from nbconvert!=5.4->nbsphinx>=0.3.3->radvel) (1.4.3)\n",
      "Requirement already satisfied: bleach in /Users/sydneypetz/opt/anaconda3/lib/python3.9/site-packages (from nbconvert!=5.4->nbsphinx>=0.3.3->radvel) (4.0.0)\n",
      "Requirement already satisfied: defusedxml in /Users/sydneypetz/opt/anaconda3/lib/python3.9/site-packages (from nbconvert!=5.4->nbsphinx>=0.3.3->radvel) (0.7.1)\n",
      "Requirement already satisfied: jupyterlab-pygments in /Users/sydneypetz/opt/anaconda3/lib/python3.9/site-packages (from nbconvert!=5.4->nbsphinx>=0.3.3->radvel) (0.1.2)\n",
      "Requirement already satisfied: testpath in /Users/sydneypetz/opt/anaconda3/lib/python3.9/site-packages (from nbconvert!=5.4->nbsphinx>=0.3.3->radvel) (0.5.0)\n",
      "Requirement already satisfied: mistune<2,>=0.8.1 in /Users/sydneypetz/opt/anaconda3/lib/python3.9/site-packages (from nbconvert!=5.4->nbsphinx>=0.3.3->radvel) (0.8.4)\n",
      "Requirement already satisfied: nest-asyncio in /Users/sydneypetz/opt/anaconda3/lib/python3.9/site-packages (from nbclient<0.6.0,>=0.5.0->nbconvert!=5.4->nbsphinx>=0.3.3->radvel) (1.5.1)\n",
      "Requirement already satisfied: async-generator in /Users/sydneypetz/opt/anaconda3/lib/python3.9/site-packages (from nbclient<0.6.0,>=0.5.0->nbconvert!=5.4->nbsphinx>=0.3.3->radvel) (1.10)\n"
     ]
    },
    {
     "name": "stdout",
     "output_type": "stream",
     "text": [
      "Requirement already satisfied: jsonschema!=2.5.0,>=2.4 in /Users/sydneypetz/opt/anaconda3/lib/python3.9/site-packages (from nbformat->nbsphinx>=0.3.3->radvel) (4.5.1)\n",
      "Requirement already satisfied: attrs>=17.4.0 in /Users/sydneypetz/opt/anaconda3/lib/python3.9/site-packages (from jsonschema!=2.5.0,>=2.4->nbformat->nbsphinx>=0.3.3->radvel) (21.2.0)\n",
      "Requirement already satisfied: pyrsistent!=0.17.0,!=0.17.1,!=0.17.2,>=0.14.0 in /Users/sydneypetz/opt/anaconda3/lib/python3.9/site-packages (from jsonschema!=2.5.0,>=2.4->nbformat->nbsphinx>=0.3.3->radvel) (0.18.0)\n",
      "Requirement already satisfied: pytz>=2017.3 in /Users/sydneypetz/opt/anaconda3/lib/python3.9/site-packages (from pandas>=0.20.0->radvel) (2021.3)\n",
      "Requirement already satisfied: ptyprocess>=0.5 in /Users/sydneypetz/opt/anaconda3/lib/python3.9/site-packages (from pexpect>4.3->ipython<8.0,>=7.23.1->ipykernel>=4.10.0->radvel) (0.7.0)\n",
      "Requirement already satisfied: wcwidth in /Users/sydneypetz/opt/anaconda3/lib/python3.9/site-packages (from prompt-toolkit!=3.0.0,!=3.0.1,<3.1.0,>=2.0.0->ipython<8.0,>=7.23.1->ipykernel>=4.10.0->radvel) (0.2.5)\n",
      "Requirement already satisfied: sphinxcontrib-applehelp in /Users/sydneypetz/opt/anaconda3/lib/python3.9/site-packages (from sphinx>=1.8->nbsphinx>=0.3.3->radvel) (1.0.2)\n",
      "Requirement already satisfied: sphinxcontrib-devhelp in /Users/sydneypetz/opt/anaconda3/lib/python3.9/site-packages (from sphinx>=1.8->nbsphinx>=0.3.3->radvel) (1.0.2)\n",
      "Requirement already satisfied: sphinxcontrib-jsmath in /Users/sydneypetz/opt/anaconda3/lib/python3.9/site-packages (from sphinx>=1.8->nbsphinx>=0.3.3->radvel) (1.0.1)\n",
      "Requirement already satisfied: sphinxcontrib-htmlhelp>=2.0.0 in /Users/sydneypetz/opt/anaconda3/lib/python3.9/site-packages (from sphinx>=1.8->nbsphinx>=0.3.3->radvel) (2.0.0)\n",
      "Requirement already satisfied: sphinxcontrib-serializinghtml>=1.1.5 in /Users/sydneypetz/opt/anaconda3/lib/python3.9/site-packages (from sphinx>=1.8->nbsphinx>=0.3.3->radvel) (1.1.5)\n",
      "Requirement already satisfied: sphinxcontrib-qthelp in /Users/sydneypetz/opt/anaconda3/lib/python3.9/site-packages (from sphinx>=1.8->nbsphinx>=0.3.3->radvel) (1.0.3)\n",
      "Requirement already satisfied: snowballstemmer>=1.1 in /Users/sydneypetz/opt/anaconda3/lib/python3.9/site-packages (from sphinx>=1.8->nbsphinx>=0.3.3->radvel) (2.1.0)\n",
      "Requirement already satisfied: babel>=1.3 in /Users/sydneypetz/opt/anaconda3/lib/python3.9/site-packages (from sphinx>=1.8->nbsphinx>=0.3.3->radvel) (2.9.1)\n",
      "Requirement already satisfied: alabaster<0.8,>=0.7 in /Users/sydneypetz/opt/anaconda3/lib/python3.9/site-packages (from sphinx>=1.8->nbsphinx>=0.3.3->radvel) (0.7.12)\n",
      "Requirement already satisfied: imagesize in /Users/sydneypetz/opt/anaconda3/lib/python3.9/site-packages (from sphinx>=1.8->nbsphinx>=0.3.3->radvel) (1.2.0)\n",
      "Requirement already satisfied: requests>=2.5.0 in /Users/sydneypetz/opt/anaconda3/lib/python3.9/site-packages (from sphinx>=1.8->nbsphinx>=0.3.3->radvel) (2.26.0)\n",
      "Requirement already satisfied: idna<4,>=2.5 in /Users/sydneypetz/opt/anaconda3/lib/python3.9/site-packages (from requests>=2.5.0->sphinx>=1.8->nbsphinx>=0.3.3->radvel) (3.2)\n",
      "Requirement already satisfied: urllib3<1.27,>=1.21.1 in /Users/sydneypetz/opt/anaconda3/lib/python3.9/site-packages (from requests>=2.5.0->sphinx>=1.8->nbsphinx>=0.3.3->radvel) (1.26.7)\n",
      "Requirement already satisfied: certifi>=2017.4.17 in /Users/sydneypetz/opt/anaconda3/lib/python3.9/site-packages (from requests>=2.5.0->sphinx>=1.8->nbsphinx>=0.3.3->radvel) (2021.10.8)\n",
      "Requirement already satisfied: charset-normalizer~=2.0.0 in /Users/sydneypetz/opt/anaconda3/lib/python3.9/site-packages (from requests>=2.5.0->sphinx>=1.8->nbsphinx>=0.3.3->radvel) (2.0.4)\n",
      "Requirement already satisfied: webencodings in /Users/sydneypetz/opt/anaconda3/lib/python3.9/site-packages (from bleach->nbconvert!=5.4->nbsphinx>=0.3.3->radvel) (0.5.1)\n",
      "Building wheels for collected packages: radvel\n",
      "  Building wheel for radvel (setup.py) ... \u001b[?25ldone\n",
      "\u001b[?25h  Created wheel for radvel: filename=radvel-1.4.9-cp39-cp39-macosx_10_9_x86_64.whl size=147900 sha256=9ea879dab81fd977bb8b51bdd1cc8109c52d70c2bf745200271834b381a167c4\n",
      "  Stored in directory: /Users/sydneypetz/Library/Caches/pip/wheels/5e/e2/0d/671557f93b03cf85410d4a4a2e8360dc6ab90143aa62fcb16e\n",
      "Successfully built radvel\n",
      "Installing collected packages: nbsphinx, dill, radvel\n",
      "Successfully installed dill-0.3.6 nbsphinx-0.8.12 radvel-1.4.9\n",
      "Note: you may need to restart the kernel to use updated packages.\n"
     ]
    }
   ],
   "source": [
    "pip install radvel"
   ]
  },
  {
   "cell_type": "markdown",
   "metadata": {},
   "source": [
    "## Plot the best-fit model"
   ]
  },
  {
   "cell_type": "code",
   "execution_count": 44,
   "metadata": {},
   "outputs": [
    {
     "data": {
      "image/png": "[encoded data removed]",
      "text/plain": [
       "<Figure size 432x288 with 1 Axes>"
      ]
     },
     "metadata": {
      "needs_background": "light"
     },
     "output_type": "display_data"
    }
   ],
   "source": [
    "t = rv_data[\"JD\"].data\n",
    "if False:\n",
    "    import JW_lib\n",
    "    orbital_solution = [2.64388312, 2454510.388556, 0.149672, 18.318816, 18.238337]\n",
    "    rv = JW_lib.RadialVelocity(orbital_solution)\n",
    "    # The parameters are period, time at periastron, eccentricity, argument of periastron, RV semi-amplitude\n",
    "\n",
    "    # Calculate model RVs\n",
    "    rvs = rv.rv_drive(t)\n",
    "else:\n",
    "    import radvel\n",
    "#    orbital_solution = [21.218473, 2454438.751157, 0.680984, 121.36 / 360.0 * 2 * np.pi, 275.6]\n",
    "    orbital_solution = [2.64388312, 2454510.388556, 0.149672, 18.318816, 18.238337]\n",
    "    rvs = radvel.kepler.rv_drive(t, orbital_solution, use_c_kepler_solver=False)\n",
    "\n",
    "per = 2.64388312\n",
    "\n",
    "%matplotlib inline\n",
    "# Fold data and plot model against data\n",
    "ind = np.argsort(t % per)\n",
    "plt.errorbar(rv_data[\"JD\"] % per, rv_data[\"Radial_Velocity\"], rv_data[\"Radial_Velocity_Uncertainty\"], \n",
    "             color=\"black\", ms=5, marker=\"o\", ls=\"none\", label=\"Data\")\n",
    "plt.plot((t % per)[ind], rvs[ind], \"r-\", label=\"Model\", lw=3)\n",
    "plt.legend()\n",
    "plt.xlabel(\"Time [day]\")\n",
    "plt.ylabel(\"RV [m/s]\")\n",
    "plt.tight_layout()"
   ]
  },
  {
   "cell_type": "code",
   "execution_count": 28,
   "metadata": {},
   "outputs": [],
   "source": [
    "# (planet, stellar_logg, stellar_temperature, stellar_metallicity, rp_over_rs, fp_over_fs, \n",
    "#      period, sma_over_rs, eccentricity, inclination, periastron, mid_time) = plc.find_oec_parameters('hd17156b')"
   ]
  },
  {
   "cell_type": "markdown",
   "metadata": {},
   "source": [
    "## Fitting RV data"
   ]
  },
  {
   "cell_type": "code",
   "execution_count": 46,
   "metadata": {},
   "outputs": [],
   "source": [
    "import scipy.signal as signal\n",
    "x = rv_data[\"JD\"]\n",
    "y = rv_data[\"Radial_Velocity\"]\n",
    "e = rv_data[\"Radial_Velocity_Uncertainty\"]\n"
   ]
  },
  {
   "cell_type": "markdown",
   "metadata": {},
   "source": [
    "## Finding the periodicity in the data"
   ]
  },
  {
   "cell_type": "code",
   "execution_count": 47,
   "metadata": {},
   "outputs": [],
   "source": [
    "nout = 1e5\n",
    "f = np.linspace(0.01, 10.0, int(nout)) # frequency (1/day) at which power is calculated. \n",
    "#pgram = signal.lombscargle(x, y, f, normalize=True)\n",
    "pgram = signal.lombscargle(x, y, f)"
   ]
  },
  {
   "cell_type": "code",
   "execution_count": 48,
   "metadata": {},
   "outputs": [
    {
     "data": {
      "text/plain": [
       "Text(0, 0.5, 'Power')"
      ]
     },
     "execution_count": 48,
     "metadata": {},
     "output_type": "execute_result"
    },
    {
     "data": {
      "image/png": "[encoded data removed]",
      "text/plain": [
       "<Figure size 432x288 with 2 Axes>"
      ]
     },
     "metadata": {
      "needs_background": "light"
     },
     "output_type": "display_data"
    }
   ],
   "source": [
    "plt.subplot(2, 1, 1)\n",
    "plt.errorbar(x, y , e, ms=5, marker=\"o\", ls=\"none\", color=\"black\")\n",
    "plt.xlabel(\"Time [BJD]\")\n",
    "plt.ylabel(\"RV [m/s]\")\n",
    "plt.subplot(2, 1, 2)\n",
    "plt.plot(2 * np.pi / f, pgram, color=\"black\")\n",
    "plt.xscale(\"log\")\n",
    "plt.xlabel(\"Period [day]\")\n",
    "plt.ylabel(\"Power\")"
   ]
  },
  {
   "cell_type": "code",
   "execution_count": 49,
   "metadata": {},
   "outputs": [
    {
     "name": "stdout",
     "output_type": "stream",
     "text": [
      "The period with the highest power is:  2.6439321027765184  day\n"
     ]
    }
   ],
   "source": [
    "print(\"The period with the highest power is: \", 2 * np.pi / f[np.where(pgram == np.max(pgram))][0], \" day\")"
   ]
  },
  {
   "cell_type": "markdown",
   "metadata": {},
   "source": [
    "## Now gather information for orbital solution from references, we are ready for MCMC, which gives uncertainties for best-fit parameters.\n",
    "\n"
   ]
  },
  {
   "cell_type": "markdown",
   "metadata": {},
   "source": [
    "## Define a model function with five parameters: \n",
    "\n",
    "## period (day), time at periastron (MJD), eccentricity, argument of periastron (degree), RV amplitude (m/s)"
   ]
  },
  {
   "cell_type": "code",
   "execution_count": 50,
   "metadata": {},
   "outputs": [],
   "source": [
    "# def calcModel(params, t_stamp=None):\n",
    "#     per, t0, ecc, omega, rv_amp = params[\"per\"], params[\"t0\"], params[\"ecc\"], params[\"omega\"], params[\"K\"]\n",
    "#     rv = JW_lib.RadialVelocity([per, t0, ecc, omega, rv_amp])\n",
    "#     return(rv.rv_drive(t_stamp))\n",
    "\n",
    "def calcModel(params, t_stamp=None):\n",
    "    per, t0, ecc, omega, rv_amp = params[\"per\"], params[\"t0\"], params[\"ecc\"], params[\"omega\"], params[\"K\"]\n",
    "    return(radvel.kepler.rv_drive(t_stamp, [per, t0, ecc, omega, rv_amp], use_c_kepler_solver=False))"
   ]
  },
  {
   "cell_type": "markdown",
   "metadata": {},
   "source": [
    "## Define prior function "
   ]
  },
  {
   "cell_type": "code",
   "execution_count": 51,
   "metadata": {},
   "outputs": [],
   "source": [
    "def b_range(x, b):\n",
    "    if x > b:\n",
    "        return -np.inf\n",
    "    else:\n",
    "        return 0.\n",
    "\n",
    "def a_b_range(x, a, b):\n",
    "    if x < a:\n",
    "        return -np.inf\n",
    "    elif x > b:\n",
    "        return -np.inf\n",
    "    else:\n",
    "        return 0.\n",
    "\n",
    "def log_gaussian_prior(x, x0, std):\n",
    "    return((-(x - x0)**2 / (2 * (std)**2)) / 2.3)\n",
    "\n",
    "\n",
    "\n",
    "\n",
    "# define data and params that are fixed and variable\n",
    "#planet_name = \"HD 17156 b\"\n",
    "planet_name = \"HD 17156 b\"\n",
    "\n",
    "if planet_name == \"Teegarden b\":\n",
    "    log_priors = {}\n",
    "    log_priors['per']           = lambda x: a_b_range(x, 4.8, 5.0)\n",
    "    log_priors['t0']           = lambda x: a_b_range(x, 2458090.603207, 2458092.603207)\n",
    "    log_priors['ecc']           = lambda x: a_b_range(x, 0., 0.95)\n",
    "    log_priors['omega']       = lambda x: a_b_range(x, 0., 2*np.pi)\n",
    "    log_priors['K']           = lambda x: a_b_range(x, 1., 5.)\n",
    "    t_stamp      = rv_tg[\"col1\"]\n",
    "    data         = rv_tg[\"col2\"]\n",
    "    data_errors  = rv_tg[\"col3\"]\n",
    "\n",
    "    params = [4.910122, 2458091.603207, 0.222619, 82.339257 / 360 * 2 * np.pi,2.156248]\n",
    "    params_keys = [\"per\", \"t0\", \"ecc\", \"omega\", \"K\"]\n",
    "    params_fixed = []\n",
    "    params_fixed_keys = []\n",
    "elif planet_name == \"HD 17156 b\":\n",
    "    log_priors = {}\n",
    "    log_priors['per']           = lambda x: a_b_range(x, 20, 22)\n",
    "    log_priors['t0']           = lambda x: a_b_range(x, 2454436.751157, 2454440.751157)\n",
    "    log_priors['ecc']           = lambda x: a_b_range(x, 0., 0.95)\n",
    "    log_priors['omega']       = lambda x: a_b_range(x, 0., 360.)\n",
    "    log_priors['K']           = lambda x: a_b_range(x, 100., 500.)\n",
    "    t_stamp      = rv_data[\"JD\"]\n",
    "    data         = rv_data[\"Radial_Velocity\"]\n",
    "    data_errors  = rv_data[\"Radial_Velocity_Uncertainty\"]\n",
    "\n",
    "    params = [21.218473, 2454438.751157, 0.680984, 121.36 / 360 * 2 * np.pi, 275.6]\n",
    "    params_keys = [\"per\", \"t0\", \"ecc\", \"omega\", \"K\"]\n",
    "    params_fixed = []\n",
    "    params_fixed_keys = []\n",
    "else:\n",
    "    print(\"\"\" Give me either \"HD 17156 b\" or \"Teegarden b\" \"\"\")\n"
   ]
  },
  {
   "cell_type": "markdown",
   "metadata": {},
   "source": [
    "## Define likelihood function "
   ]
  },
  {
   "cell_type": "code",
   "execution_count": 52,
   "metadata": {},
   "outputs": [],
   "source": [
    "def calc_log_prob(params, data, data_errors, params_keys=params_keys, params_fixed=params_fixed, \\\n",
    "                  params_fixed_keys=params_fixed_keys, t_stamp=t_stamp, plot_flag=False):\n",
    "    # Make dictionary \n",
    "    params_dic = {}\n",
    "    for i, key in enumerate(params_keys):\n",
    "        params_dic[key]       = params[i]\n",
    "\n",
    "    for i, key in enumerate(params_fixed_keys):\n",
    "        params_dic[key]       = params_fixed[i]\n",
    "\n",
    "    # Prior calculation of all input parameters\n",
    "    log_prior = 0.\n",
    "\n",
    "    for key in params_keys:\n",
    "        if not(type(params_dic[key]) is list):\n",
    "            log_prior += log_priors[key](params_dic[key])\n",
    "        else:\n",
    "            for val in params_dic[key]:\n",
    "                log_prior += log_priors[key](val)\n",
    "\n",
    "    # Return -inf if parameters fall outside prior distribution\n",
    "    if (log_prior == -np.inf):\n",
    "        return -np.inf\n",
    "    \n",
    "    # Calculate the log-likelihood\n",
    "    log_likelihood = 0.\n",
    "\n",
    "    # Calculate the forward model, this\n",
    "    # returns the wavelengths in um and flux in W/m2\n",
    "\n",
    "    rv_model = calcModel(params_dic, t_stamp=t_stamp)\n",
    "\n",
    "    if plot_flag:\n",
    "        plt.plot(t_stamp, rv_model, \"k^-\", alpha=0.5, label=\"model\")\n",
    "        plt.plot(t_stamp, data, \"rx-\", alpha=0.5, label=\"data\")\n",
    "        plt.xlabel(\"Time [BJD]\")\n",
    "        plt.ylabel(\"RV [m/s]\")\n",
    "        plt.legend()\n",
    "        plt.show()\n",
    "\n",
    "    # Just to make sure that a long chain does not die\n",
    "    # unexpectedly:\n",
    "    # Return -inf if forward model returns NaN values\n",
    "    if np.sum(np.isnan(rv_model)) > 0:\n",
    "        print(\"NaN spectrum encountered\")\n",
    "        return -np.inf\n",
    "\n",
    "    # Calculate log-likelihood\n",
    "    log_likelihood += -np.sum(((rv_model - data)/ \\\n",
    "                       data_errors)**2.)/2.\n",
    "\n",
    "    if np.isnan(log_prior + log_likelihood):\n",
    "        return -np.inf\n",
    "    else:\n",
    "        return log_prior + log_likelihood\n",
    "\n"
   ]
  },
  {
   "cell_type": "markdown",
   "metadata": {},
   "source": [
    "## Test: calculate likelihood function"
   ]
  },
  {
   "cell_type": "code",
   "execution_count": 53,
   "metadata": {},
   "outputs": [
    {
     "data": {
      "image/png": "[encoded data removed]",
      "text/plain": [
       "<Figure size 432x288 with 1 Axes>"
      ]
     },
     "metadata": {
      "needs_background": "light"
     },
     "output_type": "display_data"
    },
    {
     "name": "stdout",
     "output_type": "stream",
     "text": [
      "-30772.347399897735\n"
     ]
    }
   ],
   "source": [
    "print(calc_log_prob(params, data, data_errors, plot_flag=True))"
   ]
  },
  {
   "cell_type": "markdown",
   "metadata": {},
   "source": [
    "## Now MCMC"
   ]
  },
  {
   "cell_type": "code",
   "execution_count": 54,
   "metadata": {},
   "outputs": [],
   "source": [
    "import emcee"
   ]
  },
  {
   "cell_type": "code",
   "execution_count": 55,
   "metadata": {},
   "outputs": [
    {
     "name": "stdout",
     "output_type": "stream",
     "text": [
      "emcee: Exception while calling your likelihood function:\n",
      "  params: [2.12921079e+01 2.45443901e+06 9.21643609e-01 2.89787123e+00\n",
      " 2.75709797e+02]\n",
      "  args: (<Column name='Radial_Velocity' dtype='float64' length=55>\n",
      "  6.1\n",
      " -0.3\n",
      "-10.6\n",
      "  8.3\n",
      " 14.3\n",
      " 19.1\n",
      "-28.2\n",
      " 15.8\n",
      " -2.8\n",
      "  ...\n",
      "  1.4\n",
      " 19.0\n",
      " -4.4\n",
      " -1.0\n",
      " 22.8\n",
      "  3.2\n",
      " -8.9\n",
      " 28.6, <Column name='Radial_Velocity_Uncertainty' dtype='float64' length=55>\n",
      "4.5\n",
      "4.1\n",
      "5.2\n",
      "5.5\n",
      "5.7\n",
      "4.9\n",
      "6.7\n",
      "4.9\n",
      "5.5\n",
      "...\n",
      "4.8\n",
      "4.5\n",
      "3.6\n",
      "5.6\n",
      "5.1\n",
      "4.9\n",
      "4.6\n",
      "5.1)\n",
      "  kwargs: {}\n",
      "  exception:\n"
     ]
    },
    {
     "name": "stderr",
     "output_type": "stream",
     "text": [
      "Traceback (most recent call last):\n",
      "  File \"/Users/sydneypetz/opt/anaconda3/lib/python3.9/site-packages/emcee/ensemble.py\", line 624, in __call__\n",
      "    return self.f(x, *self.args, **self.kwargs)\n",
      "  File \"/var/folders/2b/tt7m4rv94lsftv5fczplqkwm0000gn/T/ipykernel_44586/785565096.py\", line 31, in calc_log_prob\n",
      "    rv_model = calcModel(params_dic, t_stamp=t_stamp)\n",
      "  File \"/var/folders/2b/tt7m4rv94lsftv5fczplqkwm0000gn/T/ipykernel_44586/3006105988.py\", line 8, in calcModel\n",
      "    return(radvel.kepler.rv_drive(t_stamp, [per, t0, ecc, omega, rv_amp], use_c_kepler_solver=False))\n",
      "  File \"/Users/sydneypetz/opt/anaconda3/lib/python3.9/site-packages/radvel/kepler.py\", line 48, in rv_drive\n",
      "    nu = radvel.orbit.true_anomaly(t, tp, per, e)\n",
      "  File \"/Users/sydneypetz/opt/anaconda3/lib/python3.9/site-packages/radvel/orbit.py\", line 89, in true_anomaly\n",
      "    e1 = radvel.kepler.kepler(m, eccarr)\n",
      "  File \"/Users/sydneypetz/opt/anaconda3/lib/python3.9/site-packages/radvel/kepler.py\", line 88, in kepler\n",
      "    d3 = -fi / (fip + d2 * fipp / 2.0 + d2 * d2 * fippp / 6.0)\n",
      "  File \"/Users/sydneypetz/opt/anaconda3/lib/python3.9/site-packages/astropy/table/column.py\", line 586, in __array_finalize__\n",
      "    self.info = obj.info\n",
      "  File \"/Users/sydneypetz/opt/anaconda3/lib/python3.9/site-packages/astropy/table/column.py\", line 1073, in __setattr__\n",
      "    super().__setattr__(item, value)\n",
      "  File \"/Users/sydneypetz/opt/anaconda3/lib/python3.9/site-packages/astropy/utils/data_info.py\", line 563, in __set__\n",
      "    super().__set__(instance, value)\n",
      "  File \"/Users/sydneypetz/opt/anaconda3/lib/python3.9/site-packages/astropy/utils/data_info.py\", line 354, in __set__\n",
      "    info = instance.__dict__['info'] = self.__class__(bound=True)\n",
      "KeyboardInterrupt\n"
     ]
    },
    {
     "ename": "KeyboardInterrupt",
     "evalue": "",
     "output_type": "error",
     "traceback": [
      "\u001b[0;31m---------------------------------------------------------------------------\u001b[0m",
      "\u001b[0;31mKeyboardInterrupt\u001b[0m                         Traceback (most recent call last)",
      "\u001b[0;32m/var/folders/2b/tt7m4rv94lsftv5fczplqkwm0000gn/T/ipykernel_44586/1258884403.py\u001b[0m in \u001b[0;36m<cell line: 36>\u001b[0;34m()\u001b[0m\n\u001b[1;32m     36\u001b[0m         sampler = emcee.EnsembleSampler(nwalkers, ndim, calc_log_prob,\n\u001b[1;32m     37\u001b[0m                                        args=(data, data_errors))\n\u001b[0;32m---> 38\u001b[0;31m         \u001b[0msampler\u001b[0m\u001b[0;34m.\u001b[0m\u001b[0mrun_mcmc\u001b[0m\u001b[0;34m(\u001b[0m\u001b[0mpos\u001b[0m\u001b[0;34m,\u001b[0m \u001b[0;36m3000\u001b[0m\u001b[0;34m)\u001b[0m\u001b[0;34m\u001b[0m\u001b[0;34m\u001b[0m\u001b[0m\n\u001b[0m\u001b[1;32m     39\u001b[0m \u001b[0;34m\u001b[0m\u001b[0m\n\u001b[1;32m     40\u001b[0m \u001b[0;34m\u001b[0m\u001b[0m\n",
      "\u001b[0;32m~/opt/anaconda3/lib/python3.9/site-packages/emcee/ensemble.py\u001b[0m in \u001b[0;36mrun_mcmc\u001b[0;34m(self, initial_state, nsteps, **kwargs)\u001b[0m\n\u001b[1;32m    441\u001b[0m \u001b[0;34m\u001b[0m\u001b[0m\n\u001b[1;32m    442\u001b[0m         \u001b[0mresults\u001b[0m \u001b[0;34m=\u001b[0m \u001b[0;32mNone\u001b[0m\u001b[0;34m\u001b[0m\u001b[0;34m\u001b[0m\u001b[0m\n\u001b[0;32m--> 443\u001b[0;31m         \u001b[0;32mfor\u001b[0m \u001b[0mresults\u001b[0m \u001b[0;32min\u001b[0m \u001b[0mself\u001b[0m\u001b[0;34m.\u001b[0m\u001b[0msample\u001b[0m\u001b[0;34m(\u001b[0m\u001b[0minitial_state\u001b[0m\u001b[0;34m,\u001b[0m \u001b[0miterations\u001b[0m\u001b[0;34m=\u001b[0m\u001b[0mnsteps\u001b[0m\u001b[0;34m,\u001b[0m \u001b[0;34m**\u001b[0m\u001b[0mkwargs\u001b[0m\u001b[0;34m)\u001b[0m\u001b[0;34m:\u001b[0m\u001b[0;34m\u001b[0m\u001b[0;34m\u001b[0m\u001b[0m\n\u001b[0m\u001b[1;32m    444\u001b[0m             \u001b[0;32mpass\u001b[0m\u001b[0;34m\u001b[0m\u001b[0;34m\u001b[0m\u001b[0m\n\u001b[1;32m    445\u001b[0m \u001b[0;34m\u001b[0m\u001b[0m\n",
      "\u001b[0;32m~/opt/anaconda3/lib/python3.9/site-packages/emcee/ensemble.py\u001b[0m in \u001b[0;36msample\u001b[0;34m(self, initial_state, log_prob0, rstate0, blobs0, iterations, tune, skip_initial_state_check, thin_by, thin, store, progress, progress_kwargs)\u001b[0m\n\u001b[1;32m    400\u001b[0m \u001b[0;34m\u001b[0m\u001b[0m\n\u001b[1;32m    401\u001b[0m                     \u001b[0;31m# Propose\u001b[0m\u001b[0;34m\u001b[0m\u001b[0;34m\u001b[0m\u001b[0m\n\u001b[0;32m--> 402\u001b[0;31m                     \u001b[0mstate\u001b[0m\u001b[0;34m,\u001b[0m \u001b[0maccepted\u001b[0m \u001b[0;34m=\u001b[0m \u001b[0mmove\u001b[0m\u001b[0;34m.\u001b[0m\u001b[0mpropose\u001b[0m\u001b[0;34m(\u001b[0m\u001b[0mmodel\u001b[0m\u001b[0;34m,\u001b[0m \u001b[0mstate\u001b[0m\u001b[0;34m)\u001b[0m\u001b[0;34m\u001b[0m\u001b[0;34m\u001b[0m\u001b[0m\n\u001b[0m\u001b[1;32m    403\u001b[0m                     \u001b[0mstate\u001b[0m\u001b[0;34m.\u001b[0m\u001b[0mrandom_state\u001b[0m \u001b[0;34m=\u001b[0m \u001b[0mself\u001b[0m\u001b[0;34m.\u001b[0m\u001b[0mrandom_state\u001b[0m\u001b[0;34m\u001b[0m\u001b[0;34m\u001b[0m\u001b[0m\n\u001b[1;32m    404\u001b[0m \u001b[0;34m\u001b[0m\u001b[0m\n",
      "\u001b[0;32m~/opt/anaconda3/lib/python3.9/site-packages/emcee/moves/red_blue.py\u001b[0m in \u001b[0;36mpropose\u001b[0;34m(self, model, state)\u001b[0m\n\u001b[1;32m     91\u001b[0m \u001b[0;34m\u001b[0m\u001b[0m\n\u001b[1;32m     92\u001b[0m             \u001b[0;31m# Compute the lnprobs of the proposed position.\u001b[0m\u001b[0;34m\u001b[0m\u001b[0;34m\u001b[0m\u001b[0m\n\u001b[0;32m---> 93\u001b[0;31m             \u001b[0mnew_log_probs\u001b[0m\u001b[0;34m,\u001b[0m \u001b[0mnew_blobs\u001b[0m \u001b[0;34m=\u001b[0m \u001b[0mmodel\u001b[0m\u001b[0;34m.\u001b[0m\u001b[0mcompute_log_prob_fn\u001b[0m\u001b[0;34m(\u001b[0m\u001b[0mq\u001b[0m\u001b[0;34m)\u001b[0m\u001b[0;34m\u001b[0m\u001b[0;34m\u001b[0m\u001b[0m\n\u001b[0m\u001b[1;32m     94\u001b[0m \u001b[0;34m\u001b[0m\u001b[0m\n\u001b[1;32m     95\u001b[0m             \u001b[0;31m# Loop over the walkers and update them accordingly.\u001b[0m\u001b[0;34m\u001b[0m\u001b[0;34m\u001b[0m\u001b[0m\n",
      "\u001b[0;32m~/opt/anaconda3/lib/python3.9/site-packages/emcee/ensemble.py\u001b[0m in \u001b[0;36mcompute_log_prob\u001b[0;34m(self, coords)\u001b[0m\n\u001b[1;32m    487\u001b[0m             \u001b[0;32melse\u001b[0m\u001b[0;34m:\u001b[0m\u001b[0;34m\u001b[0m\u001b[0;34m\u001b[0m\u001b[0m\n\u001b[1;32m    488\u001b[0m                 \u001b[0mmap_func\u001b[0m \u001b[0;34m=\u001b[0m \u001b[0mmap\u001b[0m\u001b[0;34m\u001b[0m\u001b[0;34m\u001b[0m\u001b[0m\n\u001b[0;32m--> 489\u001b[0;31m             \u001b[0mresults\u001b[0m \u001b[0;34m=\u001b[0m \u001b[0mlist\u001b[0m\u001b[0;34m(\u001b[0m\u001b[0mmap_func\u001b[0m\u001b[0;34m(\u001b[0m\u001b[0mself\u001b[0m\u001b[0;34m.\u001b[0m\u001b[0mlog_prob_fn\u001b[0m\u001b[0;34m,\u001b[0m \u001b[0mp\u001b[0m\u001b[0;34m)\u001b[0m\u001b[0;34m)\u001b[0m\u001b[0;34m\u001b[0m\u001b[0;34m\u001b[0m\u001b[0m\n\u001b[0m\u001b[1;32m    490\u001b[0m \u001b[0;34m\u001b[0m\u001b[0m\n\u001b[1;32m    491\u001b[0m         \u001b[0;32mtry\u001b[0m\u001b[0;34m:\u001b[0m\u001b[0;34m\u001b[0m\u001b[0;34m\u001b[0m\u001b[0m\n",
      "\u001b[0;32m~/opt/anaconda3/lib/python3.9/site-packages/emcee/ensemble.py\u001b[0m in \u001b[0;36m__call__\u001b[0;34m(self, x)\u001b[0m\n\u001b[1;32m    622\u001b[0m     \u001b[0;32mdef\u001b[0m \u001b[0m__call__\u001b[0m\u001b[0;34m(\u001b[0m\u001b[0mself\u001b[0m\u001b[0;34m,\u001b[0m \u001b[0mx\u001b[0m\u001b[0;34m)\u001b[0m\u001b[0;34m:\u001b[0m\u001b[0;34m\u001b[0m\u001b[0;34m\u001b[0m\u001b[0m\n\u001b[1;32m    623\u001b[0m         \u001b[0;32mtry\u001b[0m\u001b[0;34m:\u001b[0m\u001b[0;34m\u001b[0m\u001b[0;34m\u001b[0m\u001b[0m\n\u001b[0;32m--> 624\u001b[0;31m             \u001b[0;32mreturn\u001b[0m \u001b[0mself\u001b[0m\u001b[0;34m.\u001b[0m\u001b[0mf\u001b[0m\u001b[0;34m(\u001b[0m\u001b[0mx\u001b[0m\u001b[0;34m,\u001b[0m \u001b[0;34m*\u001b[0m\u001b[0mself\u001b[0m\u001b[0;34m.\u001b[0m\u001b[0margs\u001b[0m\u001b[0;34m,\u001b[0m \u001b[0;34m**\u001b[0m\u001b[0mself\u001b[0m\u001b[0;34m.\u001b[0m\u001b[0mkwargs\u001b[0m\u001b[0;34m)\u001b[0m\u001b[0;34m\u001b[0m\u001b[0;34m\u001b[0m\u001b[0m\n\u001b[0m\u001b[1;32m    625\u001b[0m         \u001b[0;32mexcept\u001b[0m\u001b[0;34m:\u001b[0m  \u001b[0;31m# pragma: no cover\u001b[0m\u001b[0;34m\u001b[0m\u001b[0;34m\u001b[0m\u001b[0m\n\u001b[1;32m    626\u001b[0m             \u001b[0;32mimport\u001b[0m \u001b[0mtraceback\u001b[0m\u001b[0;34m\u001b[0m\u001b[0;34m\u001b[0m\u001b[0m\n",
      "\u001b[0;32m/var/folders/2b/tt7m4rv94lsftv5fczplqkwm0000gn/T/ipykernel_44586/785565096.py\u001b[0m in \u001b[0;36mcalc_log_prob\u001b[0;34m(params, data, data_errors, params_keys, params_fixed, params_fixed_keys, t_stamp, plot_flag)\u001b[0m\n\u001b[1;32m     29\u001b[0m     \u001b[0;31m# returns the wavelengths in um and flux in W/m2\u001b[0m\u001b[0;34m\u001b[0m\u001b[0;34m\u001b[0m\u001b[0m\n\u001b[1;32m     30\u001b[0m \u001b[0;34m\u001b[0m\u001b[0m\n\u001b[0;32m---> 31\u001b[0;31m     \u001b[0mrv_model\u001b[0m \u001b[0;34m=\u001b[0m \u001b[0mcalcModel\u001b[0m\u001b[0;34m(\u001b[0m\u001b[0mparams_dic\u001b[0m\u001b[0;34m,\u001b[0m \u001b[0mt_stamp\u001b[0m\u001b[0;34m=\u001b[0m\u001b[0mt_stamp\u001b[0m\u001b[0;34m)\u001b[0m\u001b[0;34m\u001b[0m\u001b[0;34m\u001b[0m\u001b[0m\n\u001b[0m\u001b[1;32m     32\u001b[0m \u001b[0;34m\u001b[0m\u001b[0m\n\u001b[1;32m     33\u001b[0m     \u001b[0;32mif\u001b[0m \u001b[0mplot_flag\u001b[0m\u001b[0;34m:\u001b[0m\u001b[0;34m\u001b[0m\u001b[0;34m\u001b[0m\u001b[0m\n",
      "\u001b[0;32m/var/folders/2b/tt7m4rv94lsftv5fczplqkwm0000gn/T/ipykernel_44586/3006105988.py\u001b[0m in \u001b[0;36mcalcModel\u001b[0;34m(params, t_stamp)\u001b[0m\n\u001b[1;32m      6\u001b[0m \u001b[0;32mdef\u001b[0m \u001b[0mcalcModel\u001b[0m\u001b[0;34m(\u001b[0m\u001b[0mparams\u001b[0m\u001b[0;34m,\u001b[0m \u001b[0mt_stamp\u001b[0m\u001b[0;34m=\u001b[0m\u001b[0;32mNone\u001b[0m\u001b[0;34m)\u001b[0m\u001b[0;34m:\u001b[0m\u001b[0;34m\u001b[0m\u001b[0;34m\u001b[0m\u001b[0m\n\u001b[1;32m      7\u001b[0m     \u001b[0mper\u001b[0m\u001b[0;34m,\u001b[0m \u001b[0mt0\u001b[0m\u001b[0;34m,\u001b[0m \u001b[0mecc\u001b[0m\u001b[0;34m,\u001b[0m \u001b[0momega\u001b[0m\u001b[0;34m,\u001b[0m \u001b[0mrv_amp\u001b[0m \u001b[0;34m=\u001b[0m \u001b[0mparams\u001b[0m\u001b[0;34m[\u001b[0m\u001b[0;34m\"per\"\u001b[0m\u001b[0;34m]\u001b[0m\u001b[0;34m,\u001b[0m \u001b[0mparams\u001b[0m\u001b[0;34m[\u001b[0m\u001b[0;34m\"t0\"\u001b[0m\u001b[0;34m]\u001b[0m\u001b[0;34m,\u001b[0m \u001b[0mparams\u001b[0m\u001b[0;34m[\u001b[0m\u001b[0;34m\"ecc\"\u001b[0m\u001b[0;34m]\u001b[0m\u001b[0;34m,\u001b[0m \u001b[0mparams\u001b[0m\u001b[0;34m[\u001b[0m\u001b[0;34m\"omega\"\u001b[0m\u001b[0;34m]\u001b[0m\u001b[0;34m,\u001b[0m \u001b[0mparams\u001b[0m\u001b[0;34m[\u001b[0m\u001b[0;34m\"K\"\u001b[0m\u001b[0;34m]\u001b[0m\u001b[0;34m\u001b[0m\u001b[0;34m\u001b[0m\u001b[0m\n\u001b[0;32m----> 8\u001b[0;31m     \u001b[0;32mreturn\u001b[0m\u001b[0;34m(\u001b[0m\u001b[0mradvel\u001b[0m\u001b[0;34m.\u001b[0m\u001b[0mkepler\u001b[0m\u001b[0;34m.\u001b[0m\u001b[0mrv_drive\u001b[0m\u001b[0;34m(\u001b[0m\u001b[0mt_stamp\u001b[0m\u001b[0;34m,\u001b[0m \u001b[0;34m[\u001b[0m\u001b[0mper\u001b[0m\u001b[0;34m,\u001b[0m \u001b[0mt0\u001b[0m\u001b[0;34m,\u001b[0m \u001b[0mecc\u001b[0m\u001b[0;34m,\u001b[0m \u001b[0momega\u001b[0m\u001b[0;34m,\u001b[0m \u001b[0mrv_amp\u001b[0m\u001b[0;34m]\u001b[0m\u001b[0;34m,\u001b[0m \u001b[0muse_c_kepler_solver\u001b[0m\u001b[0;34m=\u001b[0m\u001b[0;32mFalse\u001b[0m\u001b[0;34m)\u001b[0m\u001b[0;34m)\u001b[0m\u001b[0;34m\u001b[0m\u001b[0;34m\u001b[0m\u001b[0m\n\u001b[0m",
      "\u001b[0;32m~/opt/anaconda3/lib/python3.9/site-packages/radvel/kepler.py\u001b[0m in \u001b[0;36mrv_drive\u001b[0;34m(t, orbel, use_c_kepler_solver)\u001b[0m\n\u001b[1;32m     46\u001b[0m         \u001b[0mrv\u001b[0m \u001b[0;34m=\u001b[0m \u001b[0m_kepler\u001b[0m\u001b[0;34m.\u001b[0m\u001b[0mrv_drive_array\u001b[0m\u001b[0;34m(\u001b[0m\u001b[0mt\u001b[0m\u001b[0;34m,\u001b[0m \u001b[0mper\u001b[0m\u001b[0;34m,\u001b[0m \u001b[0mtp\u001b[0m\u001b[0;34m,\u001b[0m \u001b[0me\u001b[0m\u001b[0;34m,\u001b[0m \u001b[0mom\u001b[0m\u001b[0;34m,\u001b[0m \u001b[0mk\u001b[0m\u001b[0;34m)\u001b[0m\u001b[0;34m\u001b[0m\u001b[0;34m\u001b[0m\u001b[0m\n\u001b[1;32m     47\u001b[0m     \u001b[0;32melse\u001b[0m\u001b[0;34m:\u001b[0m\u001b[0;34m\u001b[0m\u001b[0;34m\u001b[0m\u001b[0m\n\u001b[0;32m---> 48\u001b[0;31m         \u001b[0mnu\u001b[0m \u001b[0;34m=\u001b[0m \u001b[0mradvel\u001b[0m\u001b[0;34m.\u001b[0m\u001b[0morbit\u001b[0m\u001b[0;34m.\u001b[0m\u001b[0mtrue_anomaly\u001b[0m\u001b[0;34m(\u001b[0m\u001b[0mt\u001b[0m\u001b[0;34m,\u001b[0m \u001b[0mtp\u001b[0m\u001b[0;34m,\u001b[0m \u001b[0mper\u001b[0m\u001b[0;34m,\u001b[0m \u001b[0me\u001b[0m\u001b[0;34m)\u001b[0m\u001b[0;34m\u001b[0m\u001b[0;34m\u001b[0m\u001b[0m\n\u001b[0m\u001b[1;32m     49\u001b[0m         \u001b[0mrv\u001b[0m \u001b[0;34m=\u001b[0m \u001b[0mk\u001b[0m \u001b[0;34m*\u001b[0m \u001b[0;34m(\u001b[0m\u001b[0mnp\u001b[0m\u001b[0;34m.\u001b[0m\u001b[0mcos\u001b[0m\u001b[0;34m(\u001b[0m\u001b[0mnu\u001b[0m \u001b[0;34m+\u001b[0m \u001b[0mom\u001b[0m\u001b[0;34m)\u001b[0m \u001b[0;34m+\u001b[0m \u001b[0me\u001b[0m \u001b[0;34m*\u001b[0m \u001b[0mnp\u001b[0m\u001b[0;34m.\u001b[0m\u001b[0mcos\u001b[0m\u001b[0;34m(\u001b[0m\u001b[0mom\u001b[0m\u001b[0;34m)\u001b[0m\u001b[0;34m)\u001b[0m\u001b[0;34m\u001b[0m\u001b[0;34m\u001b[0m\u001b[0m\n\u001b[1;32m     50\u001b[0m \u001b[0;34m\u001b[0m\u001b[0m\n",
      "\u001b[0;32m~/opt/anaconda3/lib/python3.9/site-packages/radvel/orbit.py\u001b[0m in \u001b[0;36mtrue_anomaly\u001b[0;34m(t, tp, per, e)\u001b[0m\n\u001b[1;32m     87\u001b[0m     \u001b[0mm\u001b[0m \u001b[0;34m=\u001b[0m \u001b[0;36m2\u001b[0m \u001b[0;34m*\u001b[0m \u001b[0mnp\u001b[0m\u001b[0;34m.\u001b[0m\u001b[0mpi\u001b[0m \u001b[0;34m*\u001b[0m \u001b[0;34m(\u001b[0m\u001b[0;34m(\u001b[0m\u001b[0;34m(\u001b[0m\u001b[0mt\u001b[0m \u001b[0;34m-\u001b[0m \u001b[0mtp\u001b[0m\u001b[0;34m)\u001b[0m \u001b[0;34m/\u001b[0m \u001b[0mper\u001b[0m\u001b[0;34m)\u001b[0m \u001b[0;34m-\u001b[0m \u001b[0mnp\u001b[0m\u001b[0;34m.\u001b[0m\u001b[0mfloor\u001b[0m\u001b[0;34m(\u001b[0m\u001b[0;34m(\u001b[0m\u001b[0mt\u001b[0m \u001b[0;34m-\u001b[0m \u001b[0mtp\u001b[0m\u001b[0;34m)\u001b[0m \u001b[0;34m/\u001b[0m \u001b[0mper\u001b[0m\u001b[0;34m)\u001b[0m\u001b[0;34m)\u001b[0m\u001b[0;34m\u001b[0m\u001b[0;34m\u001b[0m\u001b[0m\n\u001b[1;32m     88\u001b[0m     \u001b[0meccarr\u001b[0m \u001b[0;34m=\u001b[0m \u001b[0mnp\u001b[0m\u001b[0;34m.\u001b[0m\u001b[0mzeros\u001b[0m\u001b[0;34m(\u001b[0m\u001b[0mt\u001b[0m\u001b[0;34m.\u001b[0m\u001b[0msize\u001b[0m\u001b[0;34m)\u001b[0m \u001b[0;34m+\u001b[0m \u001b[0me\u001b[0m\u001b[0;34m\u001b[0m\u001b[0;34m\u001b[0m\u001b[0m\n\u001b[0;32m---> 89\u001b[0;31m     \u001b[0me1\u001b[0m \u001b[0;34m=\u001b[0m \u001b[0mradvel\u001b[0m\u001b[0;34m.\u001b[0m\u001b[0mkepler\u001b[0m\u001b[0;34m.\u001b[0m\u001b[0mkepler\u001b[0m\u001b[0;34m(\u001b[0m\u001b[0mm\u001b[0m\u001b[0;34m,\u001b[0m \u001b[0meccarr\u001b[0m\u001b[0;34m)\u001b[0m\u001b[0;34m\u001b[0m\u001b[0;34m\u001b[0m\u001b[0m\n\u001b[0m\u001b[1;32m     90\u001b[0m     \u001b[0mn1\u001b[0m \u001b[0;34m=\u001b[0m \u001b[0;36m1.0\u001b[0m \u001b[0;34m+\u001b[0m \u001b[0me\u001b[0m\u001b[0;34m\u001b[0m\u001b[0;34m\u001b[0m\u001b[0m\n\u001b[1;32m     91\u001b[0m     \u001b[0mn2\u001b[0m \u001b[0;34m=\u001b[0m \u001b[0;36m1.0\u001b[0m \u001b[0;34m-\u001b[0m \u001b[0me\u001b[0m\u001b[0;34m\u001b[0m\u001b[0;34m\u001b[0m\u001b[0m\n",
      "\u001b[0;32m~/opt/anaconda3/lib/python3.9/site-packages/radvel/kepler.py\u001b[0m in \u001b[0;36mkepler\u001b[0;34m(Marr, eccarr)\u001b[0m\n\u001b[1;32m     86\u001b[0m         \u001b[0md1\u001b[0m \u001b[0;34m=\u001b[0m \u001b[0;34m-\u001b[0m\u001b[0mfi\u001b[0m \u001b[0;34m/\u001b[0m \u001b[0mfip\u001b[0m\u001b[0;34m\u001b[0m\u001b[0;34m\u001b[0m\u001b[0m\n\u001b[1;32m     87\u001b[0m         \u001b[0md2\u001b[0m \u001b[0;34m=\u001b[0m \u001b[0;34m-\u001b[0m\u001b[0mfi\u001b[0m \u001b[0;34m/\u001b[0m \u001b[0;34m(\u001b[0m\u001b[0mfip\u001b[0m \u001b[0;34m+\u001b[0m \u001b[0md1\u001b[0m \u001b[0;34m*\u001b[0m \u001b[0mfipp\u001b[0m \u001b[0;34m/\u001b[0m \u001b[0;36m2.0\u001b[0m\u001b[0;34m)\u001b[0m\u001b[0;34m\u001b[0m\u001b[0;34m\u001b[0m\u001b[0m\n\u001b[0;32m---> 88\u001b[0;31m         \u001b[0md3\u001b[0m \u001b[0;34m=\u001b[0m \u001b[0;34m-\u001b[0m\u001b[0mfi\u001b[0m \u001b[0;34m/\u001b[0m \u001b[0;34m(\u001b[0m\u001b[0mfip\u001b[0m \u001b[0;34m+\u001b[0m \u001b[0md2\u001b[0m \u001b[0;34m*\u001b[0m \u001b[0mfipp\u001b[0m \u001b[0;34m/\u001b[0m \u001b[0;36m2.0\u001b[0m \u001b[0;34m+\u001b[0m \u001b[0md2\u001b[0m \u001b[0;34m*\u001b[0m \u001b[0md2\u001b[0m \u001b[0;34m*\u001b[0m \u001b[0mfippp\u001b[0m \u001b[0;34m/\u001b[0m \u001b[0;36m6.0\u001b[0m\u001b[0;34m)\u001b[0m\u001b[0;34m\u001b[0m\u001b[0;34m\u001b[0m\u001b[0m\n\u001b[0m\u001b[1;32m     89\u001b[0m         \u001b[0mE\u001b[0m \u001b[0;34m=\u001b[0m \u001b[0mE\u001b[0m \u001b[0;34m+\u001b[0m \u001b[0md3\u001b[0m\u001b[0;34m\u001b[0m\u001b[0;34m\u001b[0m\u001b[0m\n\u001b[1;32m     90\u001b[0m         \u001b[0mEarr\u001b[0m\u001b[0;34m[\u001b[0m\u001b[0mconvd\u001b[0m\u001b[0;34m]\u001b[0m \u001b[0;34m=\u001b[0m \u001b[0mE\u001b[0m\u001b[0;34m\u001b[0m\u001b[0;34m\u001b[0m\u001b[0m\n",
      "\u001b[0;32m~/opt/anaconda3/lib/python3.9/site-packages/astropy/table/column.py\u001b[0m in \u001b[0;36m__array_finalize__\u001b[0;34m(self, obj)\u001b[0m\n\u001b[1;32m    584\u001b[0m         \u001b[0mself\u001b[0m\u001b[0;34m.\u001b[0m\u001b[0m_copy_attrs\u001b[0m\u001b[0;34m(\u001b[0m\u001b[0mobj\u001b[0m\u001b[0;34m)\u001b[0m\u001b[0;34m\u001b[0m\u001b[0;34m\u001b[0m\u001b[0m\n\u001b[1;32m    585\u001b[0m         \u001b[0;32mif\u001b[0m \u001b[0;34m'info'\u001b[0m \u001b[0;32min\u001b[0m \u001b[0mgetattr\u001b[0m\u001b[0;34m(\u001b[0m\u001b[0mobj\u001b[0m\u001b[0;34m,\u001b[0m \u001b[0;34m'__dict__'\u001b[0m\u001b[0;34m,\u001b[0m \u001b[0;34m{\u001b[0m\u001b[0;34m}\u001b[0m\u001b[0;34m)\u001b[0m\u001b[0;34m:\u001b[0m\u001b[0;34m\u001b[0m\u001b[0;34m\u001b[0m\u001b[0m\n\u001b[0;32m--> 586\u001b[0;31m             \u001b[0mself\u001b[0m\u001b[0;34m.\u001b[0m\u001b[0minfo\u001b[0m \u001b[0;34m=\u001b[0m \u001b[0mobj\u001b[0m\u001b[0;34m.\u001b[0m\u001b[0minfo\u001b[0m\u001b[0;34m\u001b[0m\u001b[0;34m\u001b[0m\u001b[0m\n\u001b[0m\u001b[1;32m    587\u001b[0m \u001b[0;34m\u001b[0m\u001b[0m\n\u001b[1;32m    588\u001b[0m     \u001b[0;32mdef\u001b[0m \u001b[0m__array_wrap__\u001b[0m\u001b[0;34m(\u001b[0m\u001b[0mself\u001b[0m\u001b[0;34m,\u001b[0m \u001b[0mout_arr\u001b[0m\u001b[0;34m,\u001b[0m \u001b[0mcontext\u001b[0m\u001b[0;34m=\u001b[0m\u001b[0;32mNone\u001b[0m\u001b[0;34m)\u001b[0m\u001b[0;34m:\u001b[0m\u001b[0;34m\u001b[0m\u001b[0;34m\u001b[0m\u001b[0m\n",
      "\u001b[0;32m~/opt/anaconda3/lib/python3.9/site-packages/astropy/table/column.py\u001b[0m in \u001b[0;36m__setattr__\u001b[0;34m(self, item, value)\u001b[0m\n\u001b[1;32m   1071\u001b[0m         \u001b[0;32mif\u001b[0m \u001b[0;32mnot\u001b[0m \u001b[0misinstance\u001b[0m\u001b[0;34m(\u001b[0m\u001b[0mself\u001b[0m\u001b[0;34m,\u001b[0m \u001b[0mMaskedColumn\u001b[0m\u001b[0;34m)\u001b[0m \u001b[0;32mand\u001b[0m \u001b[0mitem\u001b[0m \u001b[0;34m==\u001b[0m \u001b[0;34m\"mask\"\u001b[0m\u001b[0;34m:\u001b[0m\u001b[0;34m\u001b[0m\u001b[0;34m\u001b[0m\u001b[0m\n\u001b[1;32m   1072\u001b[0m             \u001b[0;32mraise\u001b[0m \u001b[0mAttributeError\u001b[0m\u001b[0;34m(\u001b[0m\u001b[0;34m\"cannot set mask value to a column in non-masked Table\"\u001b[0m\u001b[0;34m)\u001b[0m\u001b[0;34m\u001b[0m\u001b[0;34m\u001b[0m\u001b[0m\n\u001b[0;32m-> 1073\u001b[0;31m         \u001b[0msuper\u001b[0m\u001b[0;34m(\u001b[0m\u001b[0;34m)\u001b[0m\u001b[0;34m.\u001b[0m\u001b[0m__setattr__\u001b[0m\u001b[0;34m(\u001b[0m\u001b[0mitem\u001b[0m\u001b[0;34m,\u001b[0m \u001b[0mvalue\u001b[0m\u001b[0;34m)\u001b[0m\u001b[0;34m\u001b[0m\u001b[0;34m\u001b[0m\u001b[0m\n\u001b[0m\u001b[1;32m   1074\u001b[0m \u001b[0;34m\u001b[0m\u001b[0m\n\u001b[1;32m   1075\u001b[0m         \u001b[0;32mif\u001b[0m \u001b[0mitem\u001b[0m \u001b[0;34m==\u001b[0m \u001b[0;34m'unit'\u001b[0m \u001b[0;32mand\u001b[0m \u001b[0missubclass\u001b[0m\u001b[0;34m(\u001b[0m\u001b[0mself\u001b[0m\u001b[0;34m.\u001b[0m\u001b[0mdtype\u001b[0m\u001b[0;34m.\u001b[0m\u001b[0mtype\u001b[0m\u001b[0;34m,\u001b[0m \u001b[0mnp\u001b[0m\u001b[0;34m.\u001b[0m\u001b[0mnumber\u001b[0m\u001b[0;34m)\u001b[0m\u001b[0;34m:\u001b[0m\u001b[0;34m\u001b[0m\u001b[0;34m\u001b[0m\u001b[0m\n",
      "\u001b[0;32m~/opt/anaconda3/lib/python3.9/site-packages/astropy/utils/data_info.py\u001b[0m in \u001b[0;36m__set__\u001b[0;34m(self, instance, value)\u001b[0m\n\u001b[1;32m    561\u001b[0m             \u001b[0;32mpass\u001b[0m\u001b[0;34m\u001b[0m\u001b[0;34m\u001b[0m\u001b[0m\n\u001b[1;32m    562\u001b[0m \u001b[0;34m\u001b[0m\u001b[0m\n\u001b[0;32m--> 563\u001b[0;31m         \u001b[0msuper\u001b[0m\u001b[0;34m(\u001b[0m\u001b[0;34m)\u001b[0m\u001b[0;34m.\u001b[0m\u001b[0m__set__\u001b[0m\u001b[0;34m(\u001b[0m\u001b[0minstance\u001b[0m\u001b[0;34m,\u001b[0m \u001b[0mvalue\u001b[0m\u001b[0;34m)\u001b[0m\u001b[0;34m\u001b[0m\u001b[0;34m\u001b[0m\u001b[0m\n\u001b[0m\u001b[1;32m    564\u001b[0m \u001b[0;34m\u001b[0m\u001b[0m\n\u001b[1;32m    565\u001b[0m     \u001b[0;32mdef\u001b[0m \u001b[0miter_str_vals\u001b[0m\u001b[0;34m(\u001b[0m\u001b[0mself\u001b[0m\u001b[0;34m)\u001b[0m\u001b[0;34m:\u001b[0m\u001b[0;34m\u001b[0m\u001b[0;34m\u001b[0m\u001b[0m\n",
      "\u001b[0;32m~/opt/anaconda3/lib/python3.9/site-packages/astropy/utils/data_info.py\u001b[0m in \u001b[0;36m__set__\u001b[0;34m(self, instance, value)\u001b[0m\n\u001b[1;32m    352\u001b[0m \u001b[0;34m\u001b[0m\u001b[0m\n\u001b[1;32m    353\u001b[0m         \u001b[0;32mif\u001b[0m \u001b[0misinstance\u001b[0m\u001b[0;34m(\u001b[0m\u001b[0mvalue\u001b[0m\u001b[0;34m,\u001b[0m \u001b[0mDataInfo\u001b[0m\u001b[0;34m)\u001b[0m\u001b[0;34m:\u001b[0m\u001b[0;34m\u001b[0m\u001b[0;34m\u001b[0m\u001b[0m\n\u001b[0;32m--> 354\u001b[0;31m             \u001b[0minfo\u001b[0m \u001b[0;34m=\u001b[0m \u001b[0minstance\u001b[0m\u001b[0;34m.\u001b[0m\u001b[0m__dict__\u001b[0m\u001b[0;34m[\u001b[0m\u001b[0;34m'info'\u001b[0m\u001b[0;34m]\u001b[0m \u001b[0;34m=\u001b[0m \u001b[0mself\u001b[0m\u001b[0;34m.\u001b[0m\u001b[0m__class__\u001b[0m\u001b[0;34m(\u001b[0m\u001b[0mbound\u001b[0m\u001b[0;34m=\u001b[0m\u001b[0;32mTrue\u001b[0m\u001b[0;34m)\u001b[0m\u001b[0;34m\u001b[0m\u001b[0;34m\u001b[0m\u001b[0m\n\u001b[0m\u001b[1;32m    355\u001b[0m             \u001b[0mattr_names\u001b[0m \u001b[0;34m=\u001b[0m \u001b[0minfo\u001b[0m\u001b[0;34m.\u001b[0m\u001b[0mattr_names\u001b[0m\u001b[0;34m\u001b[0m\u001b[0;34m\u001b[0m\u001b[0m\n\u001b[1;32m    356\u001b[0m             \u001b[0;32mif\u001b[0m \u001b[0mvalue\u001b[0m\u001b[0;34m.\u001b[0m\u001b[0m__class__\u001b[0m \u001b[0;32mis\u001b[0m \u001b[0mself\u001b[0m\u001b[0;34m.\u001b[0m\u001b[0m__class__\u001b[0m\u001b[0;34m:\u001b[0m\u001b[0;34m\u001b[0m\u001b[0;34m\u001b[0m\u001b[0m\n",
      "\u001b[0;31mKeyboardInterrupt\u001b[0m: "
     ]
    }
   ],
   "source": [
    "per = params[0]; e_per = 0.01\n",
    "t0 = params[1]; e_t0 = 0.05\n",
    "ecc = params[2]; e_ecc = 0.01\n",
    "omega = params[3]; e_omega = 0.1\n",
    "K = params[4]; e_K = 0.1\n",
    "\n",
    "\n",
    "p_0 = params\n",
    "e_p = [e_per, e_t0, e_ecc, e_omega, e_K]\n",
    "\n",
    "\n",
    "ndim, nwalkers, nruns = len(p_0), 200, 1000\n",
    "pos = [p_0 + e_p*np.random.randn(ndim) for i in range(nwalkers)]\n",
    "\n",
    "import time as timer\n",
    "start = timer.time()\n",
    "\n",
    "from multiprocessing import Pool\n",
    "\n",
    "# if pool works then use True, this option will use multi thread to increase computaional speed. Otherwise use False.\n",
    "if False: \n",
    "    with Pool() as pool:\n",
    "\n",
    "        # Initialize the sampler\n",
    "        sampler = emcee.EnsembleSampler(nwalkers, ndim, calc_log_prob,\n",
    "                                       args=(data, data_errors), pool=pool, threads=5)\n",
    "        sampler.run_mcmc(pos, 3000)\n",
    "\n",
    "\n",
    "        #End timer\n",
    "        end = timer.time()\n",
    "        serial_time = end - start\n",
    "        print(\"MCMC took {0:.1f} seconds\".format(serial_time))\n",
    "else:\n",
    "        # Initialize the sampler\n",
    "        sampler = emcee.EnsembleSampler(nwalkers, ndim, calc_log_prob,\n",
    "                                       args=(data, data_errors))\n",
    "        sampler.run_mcmc(pos, 3000)\n",
    "\n",
    "\n",
    "        #End timer\n",
    "        end = timer.time()\n",
    "        serial_time = end - start\n",
    "        print(\"MCMC took {0:.1f} seconds\".format(serial_time))    \n",
    "\n",
    "\n"
   ]
  },
  {
   "cell_type": "markdown",
   "metadata": {},
   "source": [
    "## Check MCMC result"
   ]
  },
  {
   "cell_type": "code",
   "execution_count": null,
   "metadata": {},
   "outputs": [],
   "source": [
    "samples = sampler.chain[:, 1000:, :].reshape((-1, ndim))[0:-1:10, :]\n",
    "\n",
    "\n",
    "print(\"flat chain shape: {0}\".format(samples.shape))\n"
   ]
  },
  {
   "cell_type": "code",
   "execution_count": null,
   "metadata": {},
   "outputs": [],
   "source": [
    "import corner\n",
    "fig = corner.corner(samples, labels=params_keys, plot_contours=True)\n"
   ]
  },
  {
   "cell_type": "markdown",
   "metadata": {},
   "source": [
    "## Plot models with data"
   ]
  },
  {
   "cell_type": "code",
   "execution_count": 56,
   "metadata": {},
   "outputs": [
    {
     "ename": "NameError",
     "evalue": "name 'samples' is not defined",
     "output_type": "error",
     "traceback": [
      "\u001b[0;31m---------------------------------------------------------------------------\u001b[0m",
      "\u001b[0;31mNameError\u001b[0m                                 Traceback (most recent call last)",
      "\u001b[0;32m/var/folders/2b/tt7m4rv94lsftv5fczplqkwm0000gn/T/ipykernel_44586/4229986198.py\u001b[0m in \u001b[0;36m<cell line: 3>\u001b[0;34m()\u001b[0m\n\u001b[1;32m      1\u001b[0m \u001b[0mfig\u001b[0m\u001b[0;34m,\u001b[0m \u001b[0max\u001b[0m \u001b[0;34m=\u001b[0m \u001b[0mplt\u001b[0m\u001b[0;34m.\u001b[0m\u001b[0msubplots\u001b[0m\u001b[0;34m(\u001b[0m\u001b[0;36m2\u001b[0m\u001b[0;34m,\u001b[0m\u001b[0;36m1\u001b[0m\u001b[0;34m)\u001b[0m\u001b[0;34m\u001b[0m\u001b[0;34m\u001b[0m\u001b[0m\n\u001b[1;32m      2\u001b[0m \u001b[0;34m\u001b[0m\u001b[0m\n\u001b[0;32m----> 3\u001b[0;31m \u001b[0minds\u001b[0m \u001b[0;34m=\u001b[0m \u001b[0mnp\u001b[0m\u001b[0;34m.\u001b[0m\u001b[0mrandom\u001b[0m\u001b[0;34m.\u001b[0m\u001b[0mrandint\u001b[0m\u001b[0;34m(\u001b[0m\u001b[0mlen\u001b[0m\u001b[0;34m(\u001b[0m\u001b[0msamples\u001b[0m\u001b[0;34m[\u001b[0m\u001b[0;34m:\u001b[0m\u001b[0;34m,\u001b[0m\u001b[0;36m0\u001b[0m\u001b[0;34m]\u001b[0m\u001b[0;34m)\u001b[0m\u001b[0;34m,\u001b[0m \u001b[0msize\u001b[0m\u001b[0;34m=\u001b[0m\u001b[0;36m100\u001b[0m\u001b[0;34m)\u001b[0m\u001b[0;34m\u001b[0m\u001b[0;34m\u001b[0m\u001b[0m\n\u001b[0m\u001b[1;32m      4\u001b[0m \u001b[0;32mfor\u001b[0m \u001b[0mind\u001b[0m \u001b[0;32min\u001b[0m \u001b[0minds\u001b[0m\u001b[0;34m:\u001b[0m\u001b[0;34m\u001b[0m\u001b[0;34m\u001b[0m\u001b[0m\n\u001b[1;32m      5\u001b[0m     \u001b[0;31m# Make dictionary\u001b[0m\u001b[0;34m\u001b[0m\u001b[0;34m\u001b[0m\u001b[0m\n",
      "\u001b[0;31mNameError\u001b[0m: name 'samples' is not defined"
     ]
    },
    {
     "data": {
      "image/png": "[encoded data removed]",
      "text/plain": [
       "<Figure size 432x288 with 2 Axes>"
      ]
     },
     "metadata": {
      "needs_background": "light"
     },
     "output_type": "display_data"
    }
   ],
   "source": [
    "fig, ax = plt.subplots(2,1)\n",
    "\n",
    "inds = np.random.randint(len(samples[:,0]), size=100)\n",
    "for ind in inds:\n",
    "    # Make dictionary \n",
    "    params_dic = {}\n",
    "    for i, key in enumerate(params_keys):\n",
    "        params_dic[key]       = samples[ind,:][i]        \n",
    "    for i, key in enumerate(params_fixed_keys):\n",
    "        params_dic[key]       = params_fixed[i]\n",
    "    #print(params_dic[\"logg\"])\n",
    "    rv_model = calcModel(params_dic, t_stamp=t_stamp)\n",
    "    ax[0].plot(t_stamp, rv_model, 'r', alpha=0.05,label='_nolegend_')\n",
    "    \n",
    "    \n",
    "ax[0].errorbar(t_stamp, data, data_errors, ms=5, marker=\"o\", alpha=0.2, ls=\"none\", color=\"black\", label=\"Data\")\n",
    "ax[0].plot(t_stamp, rv_model, \"r\", alpha=0.5, label=\"Model\")\n",
    "\n",
    "\n",
    "# Getting median values\n",
    "values = map(lambda v: (v[1], v[2]-v[1], v[1]-v[0]),\n",
    "                             zip(*np.percentile(samples, [16, 50, 84],\n",
    "                                                axis=0)))\n",
    "params = np.array(list(values))[:,0]\n",
    "params_fixed = []\n",
    "params_dic = {}\n",
    "for i, key in enumerate(params_keys):\n",
    "    params_dic[key]       = params[i]\n",
    "for i, key in enumerate(params_fixed_keys):\n",
    "    params_dic[key]       = params_fixed[i]\n",
    "\n",
    "\n",
    "rv_model = calcModel(params_dic, t_stamp=t_stamp)\n",
    "per = params_dic[\"per\"]\n",
    "ind1 = np.argsort(t_stamp % per)\n",
    "ax[1].errorbar(t_stamp % per, data, data_errors, ms=5, marker=\"o\", alpha=0.2, ls=\"none\", color=\"black\", label=\"Data\")\n",
    "ax[1].plot((t_stamp % per)[ind1], rv_model[ind1], \"r\", alpha=0.5,label='Model', lw=3)\n",
    "\n",
    "ax[1].set_xlabel(\"Time [BJD]\", fontsize=15)\n",
    "ax[0].set_ylabel(\"RV [m/s]\", fontsize=15)\n",
    "ax[1].set_ylabel(\"RV [m/s]\", fontsize=15)\n",
    "\n",
    "plt.gca().tick_params(labelsize=15)\n",
    "ax[1].legend(fontsize=15)\n",
    "# plt.tight_layout()\n",
    "# plt.savefig(\"model_data.png\")"
   ]
  },
  {
   "cell_type": "code",
   "execution_count": null,
   "metadata": {},
   "outputs": [],
   "source": [
    "print(limb_darkening_coefficients)"
   ]
  },
  {
   "cell_type": "code",
   "execution_count": null,
   "metadata": {
    "collapsed": true
   },
   "outputs": [],
   "source": []
  }
 ],
 "metadata": {
  "kernelspec": {
   "display_name": "Python 3 (ipykernel)",
   "language": "python",
   "name": "python3"
  },
  "language_info": {
   "codemirror_mode": {
    "name": "ipython",
    "version": 3
   },
   "file_extension": ".py",
   "mimetype": "text/x-python",
   "name": "python",
   "nbconvert_exporter": "python",
   "pygments_lexer": "ipython3",
   "version": "3.9.7"
  }
 },
 "nbformat": 4,
 "nbformat_minor": 2
}
