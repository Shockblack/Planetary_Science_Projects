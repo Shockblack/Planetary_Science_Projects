{
 "cells": [
  {
   "cell_type": "code",
   "execution_count": 2,
   "id": "71233e18",
   "metadata": {},
   "outputs": [],
   "source": [
    "# Imports\n",
    "import numpy as np\n",
    "import pandas as pd\n",
    "import matplotlib.pyplot as plt\n",
    "from matplotlib.pyplot import figure\n",
    "import astropy.units as u"
   ]
  },
  {
   "cell_type": "code",
   "execution_count": 3,
   "id": "147437b5",
   "metadata": {},
   "outputs": [
    {
     "name": "stdout",
     "output_type": "stream",
     "text": [
      "6.947374100000001e-05\n"
     ]
    }
   ],
   "source": [
    "#Pl_mass = mstar*mass ratio\n",
    "pl_mass = 0.460091*0.000151\n",
    "print(pl_mass)"
   ]
  },
  {
   "cell_type": "code",
   "execution_count": 4,
   "id": "66d3707b",
   "metadata": {},
   "outputs": [
    {
     "ename": "AttributeError",
     "evalue": "'float' object has no attribute 'value'",
     "output_type": "error",
     "traceback": [
      "\u001b[0;31m---------------------------------------------------------------------------\u001b[0m",
      "\u001b[0;31mAttributeError\u001b[0m                            Traceback (most recent call last)",
      "\u001b[1;32m/Users/shockblack/Documents/OSU/Planetary Science/Planetary_Science_Projects/Project_2/Density.ipynb Cell 3\u001b[0m in \u001b[0;36m<cell line: 25>\u001b[0;34m()\u001b[0m\n\u001b[1;32m     <a href='vscode-notebook-cell:/Users/shockblack/Documents/OSU/Planetary%20Science/Planetary_Science_Projects/Project_2/Density.ipynb#W2sZmlsZQ%3D%3D?line=22'>23</a>\u001b[0m \u001b[39m# Calculate density and uncertainty\u001b[39;00m\n\u001b[1;32m     <a href='vscode-notebook-cell:/Users/shockblack/Documents/OSU/Planetary%20Science/Planetary_Science_Projects/Project_2/Density.ipynb#W2sZmlsZQ%3D%3D?line=23'>24</a>\u001b[0m Density \u001b[39m=\u001b[39m density(Mass, Radius)\n\u001b[0;32m---> <a href='vscode-notebook-cell:/Users/shockblack/Documents/OSU/Planetary%20Science/Planetary_Science_Projects/Project_2/Density.ipynb#W2sZmlsZQ%3D%3D?line=24'>25</a>\u001b[0m Uncertainty \u001b[39m=\u001b[39m uncertainty(Density, Radius, Mass, Radius_unc, Mass_unc)\n\u001b[1;32m     <a href='vscode-notebook-cell:/Users/shockblack/Documents/OSU/Planetary%20Science/Planetary_Science_Projects/Project_2/Density.ipynb#W2sZmlsZQ%3D%3D?line=26'>27</a>\u001b[0m Density\n",
      "\u001b[1;32m/Users/shockblack/Documents/OSU/Planetary Science/Planetary_Science_Projects/Project_2/Density.ipynb Cell 3\u001b[0m in \u001b[0;36muncertainty\u001b[0;34m(density, radius, mass, r_unc, m_unc)\u001b[0m\n\u001b[1;32m     <a href='vscode-notebook-cell:/Users/shockblack/Documents/OSU/Planetary%20Science/Planetary_Science_Projects/Project_2/Density.ipynb#W2sZmlsZQ%3D%3D?line=16'>17</a>\u001b[0m volume \u001b[39m=\u001b[39m \u001b[39m4\u001b[39m\u001b[39m/\u001b[39m\u001b[39m3\u001b[39m \u001b[39m*\u001b[39m np\u001b[39m.\u001b[39mpi \u001b[39m*\u001b[39m radius\u001b[39m*\u001b[39m\u001b[39m*\u001b[39m\u001b[39m3\u001b[39m\n\u001b[1;32m     <a href='vscode-notebook-cell:/Users/shockblack/Documents/OSU/Planetary%20Science/Planetary_Science_Projects/Project_2/Density.ipynb#W2sZmlsZQ%3D%3D?line=17'>18</a>\u001b[0m v_err \u001b[39m=\u001b[39m \u001b[39m4\u001b[39m \u001b[39m*\u001b[39m np\u001b[39m.\u001b[39mpi \u001b[39m*\u001b[39m r_unc\n\u001b[0;32m---> <a href='vscode-notebook-cell:/Users/shockblack/Documents/OSU/Planetary%20Science/Planetary_Science_Projects/Project_2/Density.ipynb#W2sZmlsZQ%3D%3D?line=18'>19</a>\u001b[0m v_err \u001b[39m=\u001b[39m v_err\u001b[39m.\u001b[39;49mvalue\n\u001b[1;32m     <a href='vscode-notebook-cell:/Users/shockblack/Documents/OSU/Planetary%20Science/Planetary_Science_Projects/Project_2/Density.ipynb#W2sZmlsZQ%3D%3D?line=19'>20</a>\u001b[0m v_err \u001b[39m=\u001b[39m v_err \u001b[39m*\u001b[39m volume\u001b[39m.\u001b[39munit\n\u001b[1;32m     <a href='vscode-notebook-cell:/Users/shockblack/Documents/OSU/Planetary%20Science/Planetary_Science_Projects/Project_2/Density.ipynb#W2sZmlsZQ%3D%3D?line=20'>21</a>\u001b[0m \u001b[39mreturn\u001b[39;00m density \u001b[39m*\u001b[39m np\u001b[39m.\u001b[39msqrt((v_err\u001b[39m/\u001b[39mvolume)\u001b[39m*\u001b[39m\u001b[39m*\u001b[39m\u001b[39m2\u001b[39m \u001b[39m+\u001b[39m (m_unc\u001b[39m/\u001b[39mmass)\u001b[39m*\u001b[39m\u001b[39m*\u001b[39m\u001b[39m2\u001b[39m)\n",
      "\u001b[0;31mAttributeError\u001b[0m: 'float' object has no attribute 'value'"
     ]
    }
   ],
   "source": [
    "planet_name = 'GJ 436 b'\n",
    "r_e = 6.378e+8    # Earth radius (cm)\n",
    "m_s = 2e+33      # Earth mass (g)\n",
    "\n",
    "# Exoplanet radius and mass and their uncertainties\n",
    "Radius = 3.8271295290132676 * r_e\n",
    "Radius_unc = 0.07674026192447983 * r_e\n",
    "Mass = pl_mass * m_s\n",
    "Mass_unc = 0 * m_s\n",
    "\n",
    "# Density function\n",
    "def density(mass, radius):    \n",
    "    return 3 * mass / (4 * np.pi * radius**3)\n",
    "\n",
    "# Uncertainty function\n",
    "def uncertainty(density, radius, mass, r_unc, m_unc):\n",
    "    volume = 4/3 * np.pi * radius**3\n",
    "    v_err = 4 * np.pi * r_unc\n",
    "    v_err = v_err.value\n",
    "    v_err = v_err * volume.unit\n",
    "    return density * np.sqrt((v_err/volume)**2 + (m_unc/mass)**2)\n",
    "\n",
    "# Calculate density and uncertainty\n",
    "Density = density(Mass, Radius)\n",
    "Uncertainty = uncertainty(Density, Radius, Mass, Radius_unc, Mass_unc)\n",
    "\n",
    "Density"
   ]
  },
  {
   "cell_type": "code",
   "execution_count": 6,
   "id": "4c22ef74",
   "metadata": {},
   "outputs": [
    {
     "name": "stdout",
     "output_type": "stream",
     "text": [
      "2.413141243024535 g / cm3\n",
      "0.19285762423163097 g / cm3\n"
     ]
    }
   ],
   "source": [
    "GJ_mass = 24.61686822145652 * u.Mearth\n",
    "GJ_mass = GJ_mass.to(u.g)\n",
    "GJ_mass_err = 1.9673737436366752 * u.Mearth\n",
    "GJ_mass_err = GJ_mass_err.to(u.g)\n",
    "GJ_radius = 3.8271295290132676 * u.Rearth\n",
    "GJ_radius = GJ_radius.to(u.cm)\n",
    "GJ_radius_err = 0.07674026192447983 * u.Rearth\n",
    "GJ_radius_err = GJ_radius_err.to(u.cm)\n",
    "\n",
    "GJ_density = density(GJ_mass, GJ_radius)\n",
    "GJ_density_err = uncertainty(GJ_density, GJ_radius, GJ_mass, GJ_radius_err, GJ_mass_err)\n",
    "\n",
    "print(GJ_density)\n",
    "print(GJ_density_err)"
   ]
  },
  {
   "cell_type": "code",
   "execution_count": 7,
   "id": "28802e9c",
   "metadata": {},
   "outputs": [
    {
     "name": "stdout",
     "output_type": "stream",
     "text": [
      "Index(['pl_name', 'hostname', 'default_flag', 'sy_snum', 'sy_pnum',\n",
      "       'discoverymethod', 'disc_year', 'disc_facility', 'soltype',\n",
      "       'pl_controv_flag', 'pl_refname', 'pl_orbper', 'pl_orbpererr1',\n",
      "       'pl_orbpererr2', 'pl_orbperlim', 'pl_orbsmax', 'pl_orbsmaxerr1',\n",
      "       'pl_orbsmaxerr2', 'pl_orbsmaxlim', 'pl_rade', 'pl_radeerr1',\n",
      "       'pl_radeerr2', 'pl_radelim', 'pl_radj', 'pl_radjerr1', 'pl_radjerr2',\n",
      "       'pl_radjlim', 'pl_bmasse', 'pl_bmasseerr1', 'pl_bmasseerr2',\n",
      "       'pl_bmasselim', 'pl_bmassj', 'pl_bmassjerr1', 'pl_bmassjerr2',\n",
      "       'pl_bmassjlim', 'pl_bmassprov', 'pl_orbeccen', 'pl_orbeccenerr1',\n",
      "       'pl_orbeccenerr2', 'pl_orbeccenlim', 'pl_insol', 'pl_insolerr1',\n",
      "       'pl_insolerr2', 'pl_insollim', 'pl_eqt', 'pl_eqterr1', 'pl_eqterr2',\n",
      "       'pl_eqtlim', 'ttv_flag', 'st_refname', 'st_spectype', 'st_teff',\n",
      "       'st_tefferr1', 'st_tefferr2', 'st_tefflim', 'st_rad', 'st_raderr1',\n",
      "       'st_raderr2', 'st_radlim', 'st_mass', 'st_masserr1', 'st_masserr2',\n",
      "       'st_masslim', 'st_met', 'st_meterr1', 'st_meterr2', 'st_metlim',\n",
      "       'st_metratio', 'st_logg', 'st_loggerr1', 'st_loggerr2', 'st_logglim',\n",
      "       'sy_refname', 'rastr', 'ra', 'decstr', 'dec', 'sy_dist', 'sy_disterr1',\n",
      "       'sy_disterr2', 'sy_vmag', 'sy_vmagerr1', 'sy_vmagerr2', 'sy_kmag',\n",
      "       'sy_kmagerr1', 'sy_kmagerr2', 'sy_gaiamag', 'sy_gaiamagerr1',\n",
      "       'sy_gaiamagerr2', 'rowupdate', 'pl_pubdate', 'releasedate'],\n",
      "      dtype='object')\n",
      "54      7.135323\n",
      "96      1.230885\n",
      "167     1.630802\n",
      "185     7.015744\n",
      "248     1.674764\n",
      "          ...   \n",
      "4902    0.684210\n",
      "4931    4.619081\n",
      "4937    0.896197\n",
      "4950    4.050819\n",
      "5115    1.719287\n",
      "Name: pl_dens, Length: 65, dtype: float64\n"
     ]
    }
   ],
   "source": [
    "NEA_data = pd.read_csv('../Project_1/data/PS_2023.01.18_12.09.56.csv', header=100)\n",
    "print(NEA_data.columns)\n",
    "\n",
    "# Get planets with similar mass and radius to GJ 436 b\n",
    "NEA_data = NEA_data[(NEA_data['pl_rade'] > 2.0) & (NEA_data['pl_rade'] < 5.8) & (NEA_data['pl_bmasse'] > 14) & (NEA_data['pl_bmasse'] < 34)]\n",
    "# Add density column\n",
    "radius_list = NEA_data['pl_rade'].tolist()*u.Rearth\n",
    "mass_list = NEA_data['pl_bmasse'].tolist()*u.Mearth\n",
    "NEA_data['pl_dens'] = density(mass_list.to(u.g), radius_list.to(u.cm))\n",
    "print(NEA_data['pl_dens'])"
   ]
  },
  {
   "cell_type": "code",
   "execution_count": 8,
   "id": "2b84a72a",
   "metadata": {},
   "outputs": [
    {
     "name": "stderr",
     "output_type": "stream",
     "text": [
      "*c* argument looks like a single numeric RGB or RGBA sequence, which should be avoided as value-mapping will have precedence in case its length matches with *x* & *y*.  Please use the *color* keyword-argument or provide a 2D array with a single row if you intend to specify the same RGB or RGBA value for all points.\n",
      "/var/folders/tt/4h6jq1d11tn5bc8lmvpp5t8r0000gn/T/ipykernel_10057/1100780802.py:13: MatplotlibDeprecationWarning: Auto-removal of grids by pcolor() and pcolormesh() is deprecated since 3.5 and will be removed two minor releases later; please call grid(False) first.\n",
      "  cbar = plt.colorbar()\n"
     ]
    },
    {
     "data": {
      "image/png": "[encoded data removed]",
      "text/plain": [
       "<Figure size 720x576 with 2 Axes>"
      ]
     },
     "metadata": {
      "needs_background": "light"
     },
     "output_type": "display_data"
    }
   ],
   "source": [
    "plt.figure(figsize=(10,8))\n",
    "# Get color based on density\n",
    "cmap = plt.cm.get_cmap('viridis')\n",
    "colors = cmap(NEA_data['pl_dens']/max(NEA_data['pl_dens']))\\\n",
    "\n",
    "GJcolor = cmap(GJ_density.value/(max(NEA_data['pl_dens'])-min(NEA_data['pl_dens'])))\n",
    "\n",
    "plt.style.use('ggplot')\n",
    "# Plot GJ 436 b\n",
    "\n",
    "plt.scatter(GJ_radius.to(u.Rearth).value, GJ_mass.to(u.Mearth).value, marker='+', label='GJ 436 b', c=GJcolor, s=200)\n",
    "plt.scatter(NEA_data['pl_rade'], NEA_data['pl_bmasse'], label='Other Exoplanets', c=NEA_data['pl_dens'], cmap='viridis')\n",
    "cbar = plt.colorbar()\n",
    "cbar.set_label(r'Density ($g/cm^3$)')\n",
    "plt.xlabel('Radius (Earth Radii)')\n",
    "plt.ylabel('Mass (Earth Masses)')\n",
    "plt.title('Exoplanet Mass vs. Radius')\n",
    "plt.legend()\n",
    "plt.tight_layout()\n",
    "plt.savefig('figs/Exoplanet_Mass_vs_Radius.pdf')"
   ]
  },
  {
   "cell_type": "code",
   "execution_count": 13,
   "id": "9b141339",
   "metadata": {},
   "outputs": [
    {
     "name": "stdout",
     "output_type": "stream",
     "text": [
      "4.784161628794678 earthRad\n",
      "16.863204970968972 earthMass\n"
     ]
    }
   ],
   "source": [
    "# Doing relation\n",
    "GJ_mass = GJ_mass.to(u.Mearth)\n",
    "GJ_radius = GJ_radius.to(u.Rearth)\n",
    "\n",
    "Nep_mass = 17.147 * u.Mearth\n",
    "Nep_radius = 3.865 * u.Rearth\n",
    "# Do relation\n",
    "chen_radius = Nep_radius * (GJ_mass/Nep_mass)**(0.59)\n",
    "chen_mass = Nep_mass * (GJ_radius/Nep_radius)**(1/0.59)\n",
    "print(chen_radius)\n",
    "print(chen_mass)"
   ]
  },
  {
   "cell_type": "code",
   "execution_count": null,
   "id": "21e97a75",
   "metadata": {},
   "outputs": [],
   "source": []
  }
 ],
 "metadata": {
  "kernelspec": {
   "display_name": "base",
   "language": "python",
   "name": "python3"
  },
  "language_info": {
   "codemirror_mode": {
    "name": "ipython",
    "version": 3
   },
   "file_extension": ".py",
   "mimetype": "text/x-python",
   "name": "python",
   "nbconvert_exporter": "python",
   "pygments_lexer": "ipython3",
   "version": "3.9.12"
  },
  "vscode": {
   "interpreter": {
    "hash": "a169c9cf5295e8d74f2097c55db013ecdad4c42533002d2ba98b86be62711aab"
   }
  }
 },
 "nbformat": 4,
 "nbformat_minor": 5
}
