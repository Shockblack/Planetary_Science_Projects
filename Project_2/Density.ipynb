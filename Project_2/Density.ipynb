{
 "cells": [
  {
   "cell_type": "code",
   "execution_count": 1,
   "id": "71233e18",
   "metadata": {},
   "outputs": [],
   "source": [
    "# Imports\n",
    "import numpy as np\n",
    "import pandas as pd\n",
    "import matplotlib.pyplot as plt\n",
    "from matplotlib.pyplot import figure"
   ]
  },
  {
   "cell_type": "code",
   "execution_count": 20,
   "id": "147437b5",
   "metadata": {},
   "outputs": [
    {
     "name": "stdout",
     "output_type": "stream",
     "text": [
      "6.947374100000001e-05\n"
     ]
    }
   ],
   "source": [
    "#Pl_mass = mstar*mass ratio\n",
    "pl_mass = 0.460091*0.000151\n",
    "print(pl_mass)"
   ]
  },
  {
   "cell_type": "code",
   "execution_count": 22,
   "id": "66d3707b",
   "metadata": {},
   "outputs": [
    {
     "data": {
      "text/plain": [
       "2.280809658741864"
      ]
     },
     "execution_count": 22,
     "metadata": {},
     "output_type": "execute_result"
    }
   ],
   "source": [
    "planet_name = 'GJ 436 b'\n",
    "r_e = 6.378e+8    # Earth radius (cm)\n",
    "m_s = 2e+33      # Earth mass (g)\n",
    "\n",
    "# Exoplanet radius and mass and their uncertainties\n",
    "Radius = 3.8271295290132676 * r_e\n",
    "Radius_unc = 0.07674026192447983 * r_e\n",
    "Mass = pl_mass * m_s\n",
    "Mass_unc = 0 * m_s\n",
    "\n",
    "# Density function\n",
    "def density(mass, radius):    \n",
    "    return 3 * mass / (4 * np.pi * radius**3)\n",
    "\n",
    "# Uncertainty function\n",
    "def uncertainty(density, radius, mass, r_unc, m_unc):\n",
    "    return density * np.sqrt((r_unc/radius)**2 + (3 * m_unc/mass)**2)\n",
    "\n",
    "# Calculate density and uncertainty\n",
    "Density = density(Mass, Radius)\n",
    "Uncertainty = uncertainty(Density, Radius, Mass, Radius_unc, Mass_unc)\n",
    "\n",
    "Density"
   ]
  },
  {
   "cell_type": "code",
   "execution_count": null,
   "id": "4c22ef74",
   "metadata": {},
   "outputs": [],
   "source": []
  }
 ],
 "metadata": {
  "kernelspec": {
   "display_name": "Python 3 (ipykernel)",
   "language": "python",
   "name": "python3"
  },
  "language_info": {
   "codemirror_mode": {
    "name": "ipython",
    "version": 3
   },
   "file_extension": ".py",
   "mimetype": "text/x-python",
   "name": "python",
   "nbconvert_exporter": "python",
   "pygments_lexer": "ipython3",
   "version": "3.9.7"
  }
 },
 "nbformat": 4,
 "nbformat_minor": 5
}
