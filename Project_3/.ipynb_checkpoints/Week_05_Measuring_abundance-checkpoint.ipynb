{
 "cells": [
  {
   "cell_type": "code",
   "execution_count": 1,
   "metadata": {},
   "outputs": [],
   "source": [
    "import numpy as np\n",
    "import matplotlib.pyplot as plt\n",
    "import astropy.io.ascii "
   ]
  },
  {
   "cell_type": "markdown",
   "metadata": {},
   "source": [
    "## Sodium 5890 and 5996 doublet arises from the 3p - 3s transition:\n",
    "<img src=\"http://hyperphysics.phy-astr.gsu.edu/hbase/quantum/imgqua/Nadoub.gif\" width=\"200 pt\">\n"
   ]
  },
  {
   "cell_type": "markdown",
   "metadata": {},
   "source": [
    "## Solar spectrum is from: http://bass2000.obspm.fr/solar_spect.php"
   ]
  },
  {
   "cell_type": "code",
   "execution_count": 2,
   "metadata": {},
   "outputs": [],
   "source": [
    "spec = astropy.io.ascii.read(\"solar_spectrum.txt\")"
   ]
  },
  {
   "cell_type": "code",
   "execution_count": 3,
   "metadata": {},
   "outputs": [
    {
     "data": {
      "text/plain": [
       "Text(0, 0.5, 'Normalized Flux')"
      ]
     },
     "execution_count": 3,
     "metadata": {},
     "output_type": "execute_result"
    },
    {
     "data": {
      "image/png": "[encoded data removed]",
      "text/plain": [
       "<Figure size 432x288 with 1 Axes>"
      ]
     },
     "metadata": {
      "needs_background": "light"
     },
     "output_type": "display_data"
    }
   ],
   "source": [
    "plt.plot(spec[\"col1\"], spec[\"col2\"] / 1e4)\n",
    "# plt.vlines(5887.5, 0, 10000, color=\"red\")\n",
    "# plt.vlines(5892.5, 0, 10000, color=\"red\")\n",
    "plt.vlines(5894, 0, 1, color=\"red\")\n",
    "plt.vlines(5898, 0, 1, color=\"red\")\n",
    "plt.xlim(5885, 5900)\n",
    "plt.xlabel(\"Wavelength [Angstrom]\")\n",
    "plt.ylabel(\"Normalized Flux\")"
   ]
  },
  {
   "cell_type": "markdown",
   "metadata": {},
   "source": [
    "## Equivalent width (ew) is defined as the width of a rectangle with a height equal to that of continuum emission such that the area of the rectangle is equal to the area in the spectral line."
   ]
  },
  {
   "cell_type": "code",
   "execution_count": 4,
   "metadata": {},
   "outputs": [
    {
     "name": "stdout",
     "output_type": "stream",
     "text": [
      "equivalent width (ew) =  0.8346720000182191  Angstrom\n"
     ]
    }
   ],
   "source": [
    "ind = np.where((spec[\"col1\"] < 5892.5) & (spec[\"col1\"] > 5887.5))\n",
    "inc = np.median(np.diff(spec[\"col1\"][ind]))\n",
    "ew = np.sum(1e4 - spec[\"col2\"][ind]) * inc / 1e4\n",
    "print(\"equivalent width (ew) = \", ew, \" Angstrom\")"
   ]
  },
  {
   "cell_type": "markdown",
   "metadata": {},
   "source": [
    "## Now find the number of Na atoms in absorbing state based on the following curve of growth plot:\n",
    "<img src=\"http://spiff.rit.edu/classes/phys440/lectures/curve/gcurve.jpg\" width=\"600 pt\">"
   ]
  },
  {
   "cell_type": "markdown",
   "metadata": {},
   "source": [
    "## log(W/$\\lambda$) = log(0.83 / 5890) = -3.85, where W is equivalent width.\n",
    "## The corresponding value on x-axis is log(Nf($\\lambda/5000\\overset{\\circ}{A}$))$\\sim$14.8.\n",
    "## Rearranged, we have N = $8.24\\times10^{14}$ with the unit of atoms/cm$^2$, assuming f = 0.65, where f is the oscillator strength for this transition at 5890 $\\overset{\\circ}{A}$."
   ]
  },
  {
   "cell_type": "markdown",
   "metadata": {},
   "source": [
    "## A good tutorial of Boltzmann and Saha equation can be found here: \n",
    "http://personal.psu.edu/rbc3/A501/saha.pdf\n",
    "\n",
    "http://faculty.tamuc.edu/cbertulani/ast/lectures/Lec7.pdf\n",
    "\n",
    "http://people.physics.tamu.edu/belyanin/astr314/lecture8.pdf"
   ]
  },
  {
   "cell_type": "markdown",
   "metadata": {},
   "source": [
    "## Questions:\n",
    "## 1, Estimate the ratio of sodium atoms in the ground state to sodium atoms in excited states using the Boltzmann equation:\n",
    "\n",
    "## $\\frac{N_2}{N_1} = \\frac{g_2}{g_1}\\exp\\left({-\\frac{E_2 - E_1}{kT}}\\right)$, where subscripts 1 and 2 refer to 3s and 3p states, $N$ is number density, $g$ is the number of separate, individual states that are degenerate in energy, $E$ is energy at the state, $k$ is Boltzmann constant, and $T$ is temperature.\n",
    "\n",
    "## 2, Estimate the ratio of neutral sodium atoms to ionized sodium atoms. You will use the Saha equation:\n",
    "\n",
    "## $\\frac{Na_{II}}{Na_{I}} = \\frac{2kT}{P_e} \\frac{Z_{II}}{Z_I} \\left(\\frac{2\\pi m_e kT}{h^2}\\right)^{3/2}\\exp{\\left(-\\frac{\\chi}{kT}\\right)}$, where $m_e$ is electron mass, partition function $Z_I = 2.4$ and  $Z_{II} = 1.0$, electron pressure $P_e = n_e kT = 1.0 N\\cdot m^{-2}$, and the ionization energy $\\chi = 5.1$ eV. Note that the values given are for the sodium line only. Other lines have different values. \n",
    "\n",
    "## 3, Compute the total column density of sodium atoms in the sun's photosphere, assuming the total number of sodium atoms equals to: $N_{1} \\times \\frac{N_2}{N_1} \\times \\frac{Na_{II}}{Na_{I}}$. $N_1$ is measured from the curve of growth. The last two terms have been calculated in question 1 and 2. \n",
    "\n",
    "## 4, The column density of hydrogen atoms is about $6.6\\times10^{23}$; what is the abundance of sodium relative to hydrogen?"
   ]
  },
  {
   "cell_type": "markdown",
   "metadata": {},
   "source": [
    "## In astronomers' term, we set log relative abundance for Hydrogen at 12. Abundances of other elements are expressed as: $12 + log_{10}(N_{element}/N_{H})$, where N is in mole or number density. For example, in solar atmosphere, $N_{He}/N_{H}\\sim1/10$ and therefore log abundance for He is $\\sim$11. More precisely, 10.93 according to: https://par.nsf.gov/servlets/purl/10036398.  "
   ]
  },
  {
   "cell_type": "markdown",
   "metadata": {},
   "source": [
    "## \\*\\*\\*Bonus***: try a different line from a different element, e.g., Mg, Si, or Fe, and see how close you can get to the solar value and explain the difference. "
   ]
  },
  {
   "cell_type": "markdown",
   "metadata": {},
   "source": [
    "## Further reading: \n",
    "## 1, Formation of Sodium lines in solar spectrum: https://www.chem.uci.edu/~unicorn/249/Handouts/RWFSodium.pdf\n",
    "## 2, Nomenclature of electron energy levels: https://www.dummies.com/education/science/chemistry/how-to-represent-electrons-in-an-energy-level-diagram/\n"
   ]
  },
  {
   "cell_type": "markdown",
   "metadata": {},
   "source": [
    "## Please refrain from reading the solution here: http://spiff.rit.edu/classes/phys440/lectures/curve/curve.html"
   ]
  },
  {
   "cell_type": "code",
   "execution_count": null,
   "metadata": {},
   "outputs": [],
   "source": []
  }
 ],
 "metadata": {
  "kernelspec": {
   "display_name": "Python 3",
   "language": "python",
   "name": "python3"
  },
  "language_info": {
   "codemirror_mode": {
    "name": "ipython",
    "version": 3
   },
   "file_extension": ".py",
   "mimetype": "text/x-python",
   "name": "python",
   "nbconvert_exporter": "python",
   "pygments_lexer": "ipython3",
   "version": "3.6.10"
  }
 },
 "nbformat": 4,
 "nbformat_minor": 4
}
