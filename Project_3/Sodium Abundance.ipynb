{
 "cells": [
  {
   "cell_type": "markdown",
   "metadata": {},
   "source": [
    "## Project 3"
   ]
  },
  {
   "cell_type": "code",
   "execution_count": 1,
   "metadata": {},
   "outputs": [],
   "source": [
    "import numpy as np\n",
    "import matplotlib.pyplot as plt\n",
    "import astropy.io.ascii\n",
    "import math as mt\n",
    "import astropy.constants as c\n",
    "import astropy.units as u"
   ]
  },
  {
   "cell_type": "code",
   "execution_count": 2,
   "metadata": {},
   "outputs": [],
   "source": [
    "spec = astropy.io.ascii.read(\"solar_spectrum.txt\")"
   ]
  },
  {
   "cell_type": "code",
   "execution_count": 3,
   "metadata": {
    "scrolled": true
   },
   "outputs": [
    {
     "data": {
      "text/plain": [
       "Text(0, 0.5, 'Normalized Flux')"
      ]
     },
     "execution_count": 3,
     "metadata": {},
     "output_type": "execute_result"
    },
    {
     "data": {
      "image/png": "[encoded data removed]",
      "text/plain": [
       "<Figure size 432x288 with 1 Axes>"
      ]
     },
     "metadata": {
      "needs_background": "light"
     },
     "output_type": "display_data"
    }
   ],
   "source": [
    "plt.plot(spec[\"col1\"], spec[\"col2\"] / 1e4)\n",
    "plt.vlines(5894, 0, 1, color=\"red\")\n",
    "plt.vlines(5898.5, 0, 1, color=\"red\")\n",
    "plt.xlim(5890, 5900)\n",
    "plt.xlabel(\"Wavelength [Angstrom]\")\n",
    "plt.ylabel(\"Normalized Flux\")"
   ]
  },
  {
   "cell_type": "markdown",
   "metadata": {},
   "source": [
    "### To Find Equivalent Width"
   ]
  },
  {
   "cell_type": "code",
   "execution_count": 4,
   "metadata": {},
   "outputs": [
    {
     "name": "stdout",
     "output_type": "stream",
     "text": [
      "equivalent width (ew) =  0.6785890000148121 Angstrom\n"
     ]
    }
   ],
   "source": [
    "ind = np.where((spec[\"col1\"] < 5898.5) & (spec[\"col1\"] > 5894))\n",
    "inc = np.median(np.diff(spec[\"col1\"][ind]))\n",
    "ew = np.sum(1e4 - spec[\"col2\"][ind]) * inc / 1e4 * u.Angstrom\n",
    "print(\"equivalent width (ew) = \", ew)"
   ]
  },
  {
   "attachments": {},
   "cell_type": "markdown",
   "metadata": {},
   "source": [
    "Get $log(EW/\\lambda)$ to help determine number of sodium atoms in ground state"
   ]
  },
  {
   "cell_type": "code",
   "execution_count": 5,
   "metadata": {},
   "outputs": [
    {
     "data": {
      "text/latex": [
       "$-3.9389507 \\; \\mathrm{}$"
      ],
      "text/plain": [
       "<Quantity -3.93895066>"
      ]
     },
     "execution_count": 5,
     "metadata": {},
     "output_type": "execute_result"
    }
   ],
   "source": [
    "l = 5896.0 * u.Angstrom # Wavelegnth of the sodium line\n",
    "np.log10(ew / l)"
   ]
  },
  {
   "attachments": {},
   "cell_type": "markdown",
   "metadata": {},
   "source": [
    "<img src=\"http://spiff.rit.edu/classes/phys440/lectures/curve/gcurve.jpg\" width=\"600 pt\">"
   ]
  },
  {
   "attachments": {},
   "cell_type": "markdown",
   "metadata": {},
   "source": [
    "## Question 1: To Find the Number of Na Atoms in ground state\n",
    "Using $log(EW/\\lambda) = -3.94$ corresponds to a $log (N \\cdot f \\cdot \\lambda/5000\\AA) \\sim 14.6$. We can colve for $N$, yielding $N = 10^{14.6} \\cdot 5000\\AA/(f\\cdot\\lambda)$. We approximate the oscillator strength for the $5896\\AA$ absorption line by that for the $5890\\AA$ line, being $f=0.65$."
   ]
  },
  {
   "cell_type": "code",
   "execution_count": 6,
   "metadata": {},
   "outputs": [
    {
     "name": "stdout",
     "output_type": "stream",
     "text": [
      "The number of atoms per cm^2 are 519396684262468.56\n"
     ]
    }
   ],
   "source": [
    "osc_strength = 0.65\n",
    "\n",
    "n_atoms = 10**14.6 * 5000 * u.Angstrom / (osc_strength * l)\n",
    "\n",
    "print(\"The number of atoms per cm^2 are\", n_atoms)"
   ]
  },
  {
   "cell_type": "markdown",
   "metadata": {},
   "source": [
    "## Question 2 Estimate the # of Sodium Atoms in Excited State Vs. Ground State Using Boltzman Eq."
   ]
  },
  {
   "cell_type": "code",
   "execution_count": 7,
   "metadata": {},
   "outputs": [
    {
     "name": "stdout",
     "output_type": "stream",
     "text": [
      "Here is the ratio of excited to ground state atoms 0.04510230401117907\n"
     ]
    }
   ],
   "source": [
    "# First need to calculate a few things\n",
    "# Approximating the energy change\n",
    "E1 = -5.14 * u.eV # 3s1/2\n",
    "E2 = -3.0421 * u.eV # 3p3/2\n",
    "delE = E2 - E1\n",
    "\n",
    "t_star = 5800 * u.K\n",
    "\n",
    "# The Lande g factors for the 3s1/2 and 3p3/2 states for sodium from Arimondo et al. 1977\n",
    "gS1o2 = 2.002296\n",
    "gP3o2 = 1.3342 \n",
    "gratio = gP3o2/gS1o2\n",
    "\n",
    "#found online; 2 3s' electrons and 6p'\n",
    "ratio_boltz = 3*np.exp(-delE/(c.k_B *t_star))\n",
    "print('Here is the ratio of excited to ground state atoms', ratio_boltz) "
   ]
  },
  {
   "cell_type": "markdown",
   "metadata": {},
   "source": [
    "## Question 3 Estimate the Ratio of Neutral Sodium Atoms to Ionized Sodium Atoms Using Saha Equation"
   ]
  },
  {
   "cell_type": "code",
   "execution_count": 8,
   "metadata": {},
   "outputs": [],
   "source": [
    "#calculate some things first\n",
    "kT = c.k_B * t_star\n",
    "h_sq = c.h**2\n",
    "expo = np.exp(-((5.1*u.eV)/kT))\n",
    "pe = 1 * u.N / u.m**2\n",
    "z_1 = 1\n",
    "z_2 = 2.4"
   ]
  },
  {
   "cell_type": "code",
   "execution_count": 9,
   "metadata": {},
   "outputs": [],
   "source": [
    "ratio_saha = (2*kT/pe)*(z_1/z_2)*((kT*c.m_e*2*np.pi/h_sq)**1.5)*expo"
   ]
  },
  {
   "cell_type": "code",
   "execution_count": 10,
   "metadata": {},
   "outputs": [
    {
     "name": "stdout",
     "output_type": "stream",
     "text": [
      "this is the ratio of ionized atoms to neutral atoms 2635.1361459832247 kg(3/2) m2 / (J(1/2) N s3)\n"
     ]
    }
   ],
   "source": [
    "print('this is the ratio of ionized atoms to neutral atoms', ratio_saha)"
   ]
  },
  {
   "cell_type": "code",
   "execution_count": 11,
   "metadata": {},
   "outputs": [
    {
     "data": {
      "text/latex": [
       "$2635.1361 \\; \\mathrm{}$"
      ],
      "text/plain": [
       "<Quantity 2635.13614598>"
      ]
     },
     "execution_count": 11,
     "metadata": {},
     "output_type": "execute_result"
    }
   ],
   "source": [
    "ratio_saha.decompose()"
   ]
  },
  {
   "cell_type": "markdown",
   "metadata": {},
   "source": [
    "## Question 4 Compute the Total Column Density of Sodium Atoms"
   ]
  },
  {
   "cell_type": "code",
   "execution_count": 12,
   "metadata": {},
   "outputs": [
    {
     "name": "stdout",
     "output_type": "stream",
     "text": [
      "Here is the column density 1.4309544649854113e+18\n"
     ]
    }
   ],
   "source": [
    "sodium_abundance = (n_atoms)*(1+ratio_boltz)*(1+ratio_saha)\n",
    "\n",
    "print('Here is the column density', sodium_abundance)"
   ]
  },
  {
   "cell_type": "markdown",
   "metadata": {},
   "source": [
    "## Question 5 How abundant is this versus hydrogen?"
   ]
  },
  {
   "cell_type": "code",
   "execution_count": 13,
   "metadata": {},
   "outputs": [],
   "source": [
    "#given\n",
    "hydrogen_abundance = 6.6*10**23 "
   ]
  },
  {
   "cell_type": "code",
   "execution_count": 14,
   "metadata": {},
   "outputs": [],
   "source": [
    "ratio_abundance = sodium_abundance/hydrogen_abundance"
   ]
  },
  {
   "cell_type": "code",
   "execution_count": 15,
   "metadata": {},
   "outputs": [
    {
     "name": "stdout",
     "output_type": "stream",
     "text": [
      "2.168112825735472e-06\n"
     ]
    }
   ],
   "source": [
    "print(ratio_abundance)"
   ]
  },
  {
   "cell_type": "code",
   "execution_count": 16,
   "metadata": {},
   "outputs": [],
   "source": [
    "#calculating this as an astronomer \n",
    "log_abundance = 12+np.log10((sodium_abundance)/(hydrogen_abundance))"
   ]
  },
  {
   "cell_type": "code",
   "execution_count": 17,
   "metadata": {},
   "outputs": [
    {
     "name": "stdout",
     "output_type": "stream",
     "text": [
      "6.336081878567167\n"
     ]
    }
   ],
   "source": [
    "print(log_abundance)"
   ]
  },
  {
   "cell_type": "code",
   "execution_count": null,
   "metadata": {},
   "outputs": [],
   "source": []
  }
 ],
 "metadata": {
  "kernelspec": {
   "display_name": "base",
   "language": "python",
   "name": "python3"
  },
  "language_info": {
   "codemirror_mode": {
    "name": "ipython",
    "version": 3
   },
   "file_extension": ".py",
   "mimetype": "text/x-python",
   "name": "python",
   "nbconvert_exporter": "python",
   "pygments_lexer": "ipython3",
   "version": "3.9.12"
  }
 },
 "nbformat": 4,
 "nbformat_minor": 4
}
