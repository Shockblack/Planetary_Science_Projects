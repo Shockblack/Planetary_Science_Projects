{
 "cells": [
  {
   "cell_type": "code",
   "execution_count": 3,
   "metadata": {},
   "outputs": [
    {
     "name": "stdout",
     "output_type": "stream",
     "text": [
      "1.126455897435056\n",
      "0.7143453300283891\n"
     ]
    }
   ],
   "source": [
    "import numpy as np\n",
    "\n",
    "N_Si_N_Mg = 0.0045/0.0038\n",
    "N_Fe_N_Mg = 0.0030/0.0038\n",
    "Si_Mg = -0.05\n",
    "Fe_Mg = -0.1\n",
    "\n",
    "mol_abundance_Si = N_Si_N_Mg * np.exp(Si_Mg)\n",
    "mol_abundance_Fe = N_Fe_N_Mg * np.exp(Fe_Mg)\n",
    "print(mol_abundance_Si)\n",
    "print(mol_abundance_Fe)"
   ]
  },
  {
   "cell_type": "code",
   "execution_count": 4,
   "metadata": {},
   "outputs": [
    {
     "name": "stdout",
     "output_type": "stream",
     "text": [
      "1.1842105263157894\n",
      "0.7894736842105263\n"
     ]
    }
   ],
   "source": [
    "print(N_Si_N_Mg)\n",
    "print(N_Fe_N_Mg)"
   ]
  },
  {
   "cell_type": "code",
   "execution_count": null,
   "metadata": {},
   "outputs": [],
   "source": []
  }
 ],
 "metadata": {
  "kernelspec": {
   "display_name": "base",
   "language": "python",
   "name": "python3"
  },
  "language_info": {
   "codemirror_mode": {
    "name": "ipython",
    "version": 3
   },
   "file_extension": ".py",
   "mimetype": "text/x-python",
   "name": "python",
   "nbconvert_exporter": "python",
   "pygments_lexer": "ipython3",
   "version": "3.9.12"
  },
  "orig_nbformat": 4,
  "vscode": {
   "interpreter": {
    "hash": "a169c9cf5295e8d74f2097c55db013ecdad4c42533002d2ba98b86be62711aab"
   }
  }
 },
 "nbformat": 4,
 "nbformat_minor": 2
}
